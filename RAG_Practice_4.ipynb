{
  "cells": [
    {
      "cell_type": "markdown",
      "id": "1e8ed773-0da3-49f2-8481-2ac87a12926f",
      "metadata": {
        "id": "1e8ed773-0da3-49f2-8481-2ac87a12926f"
      },
      "source": [
        "# RAG backed by SQL and Jina Reranker v2\n",
        "\n",
        "_Authored by: [Scott Martens](https://github.com/scott-martens) @ [Jina AI](https://jina.ai)_\n",
        "\n",
        "This notebook will show you how to make a simple Retrieval Augmented Generation (RAG) system that draws on an SQL database instead of drawing information from a document store.\n",
        "\n",
        "### How it Works\n",
        "\n",
        "* Given an SQL database, we extract SQL table definitions (the `CREATE` line in an SQL dump) and store them. In this tutorial, we've done this part for you and the definitions are stored in memory as a list. Scaling up from this example might require more sophisticated storage.\n",
        "* The user enters a query in natural language.\n",
        "* [Jina Reranker v2](https://jina.ai/reranker/) \\([`jinaai/jina-reranker-v2-base-multilingual`](https://huggingface.co/jinaai/jina-reranker-v2-base-multilingual)), an SQL-aware reranking model from [Jina AI](https://jina.ai), sorts the table definitions in order of their relevance to the user's query.\n",
        "* We present [Mistral 7B Instruct v0.1 \\(`mistralai/Mistral-7B-Instruct-v0.1`)](https://huggingface.co/mistralai/Mistral-7B-Instruct-v0.1) with a prompt containing the user's query and the top three table definitions, with a request to write an SQL query to fit the task.\n",
        "* Mistral Instruct generates an SQL query and we run it against the database, retrieving a result.\n",
        "* The SQL query result is converted to JSON and presented to Mistral Instruct in a new prompt, along with the user's original query, the SQL query, and a request to compose an answer for the user in natural language.\n",
        "* Mistral Instruct's natural language text response is returned to the user.\n",
        "\n",
        "### The Database\n",
        "\n",
        "For this tutorial, we are using a small open-access database of video game sales records [stored on GitHub](https://github.com/bbrumm/databasestar/tree/main/sample_databases/sample_db_videogames/sqlite). We will be using the [SQLite](https://www.sqlite.org/index.html) version because SQLite is very compact, cross-platform, and has built-in Python support.\n",
        "\n",
        "### Software and Hardware Requirements\n",
        "\n",
        "We will be running the Jina Reranker v2 model locally. If you are using Google Colab to run this notebook, make sure you are using a runtime that has access to a GPU. If you are running it locally, you will need Python 3 \\(this tutorial was authored using a Python 3.11 installation) and it will run *much* faster with a CUDA-enabled GPU.\n",
        "\n",
        "We will also use the open-source [LlamaIndex RAG framework](https://www.llamaindex.ai/) extensively in this tutorial, and the [Hugging Face Inference API](https://huggingface.co/inference-api/serverless) to access Mistral 7B Instruct v0.1. You will need a [Hugging Face account](https://huggingface.co/login) and an [access token](https://huggingface.co/settings/tokens) with at least `READ` access.\n",
        "\n",
        "> [!WARNING]\n",
        "> If you are using Google Colab, SQLite is already installed. It may not be installed on your local computer.  If it's not installed, follow the instructions on the [SQLite website](https://www.sqlite.org/download.html) to install it. The Python interface code is built into Python and you don’t need to install any Python modules for it.\n"
      ]
    },
    {
      "cell_type": "markdown",
      "id": "G18FHmeE5_5Q",
      "metadata": {
        "id": "G18FHmeE5_5Q"
      },
      "source": [
        "## Setting Up"
      ]
    },
    {
      "cell_type": "markdown",
      "id": "c22zH-xVFEvV",
      "metadata": {
        "id": "c22zH-xVFEvV"
      },
      "source": [
        "### Install Requirements\n",
        "\n",
        "First, install the required Python modules:"
      ]
    },
    {
      "cell_type": "code",
      "execution_count": null,
      "id": "674424a4-8371-4010-a4b2-650d427a556d",
      "metadata": {
        "id": "674424a4-8371-4010-a4b2-650d427a556d",
        "colab": {
          "base_uri": "https://localhost:8080/"
        },
        "outputId": "63d24e20-77f8-4fe6-fcb7-d425ebad3ec8"
      },
      "outputs": [
        {
          "output_type": "stream",
          "name": "stdout",
          "text": [
            "\u001b[2K     \u001b[90m━━━━━━━━━━━━━━━━━━━━━━━━━━━━━━━━━━━━━━━━\u001b[0m \u001b[32m44.1/44.1 kB\u001b[0m \u001b[31m4.2 MB/s\u001b[0m eta \u001b[36m0:00:00\u001b[0m\n",
            "\u001b[2K     \u001b[90m━━━━━━━━━━━━━━━━━━━━━━━━━━━━━━━━━━━━━━━━\u001b[0m \u001b[32m43.5/43.5 kB\u001b[0m \u001b[31m3.9 MB/s\u001b[0m eta \u001b[36m0:00:00\u001b[0m\n",
            "\u001b[2K   \u001b[90m━━━━━━━━━━━━━━━━━━━━━━━━━━━━━━━━━━━━━━━━\u001b[0m \u001b[32m402.8/402.8 kB\u001b[0m \u001b[31m33.1 MB/s\u001b[0m eta \u001b[36m0:00:00\u001b[0m\n",
            "\u001b[2K   \u001b[90m━━━━━━━━━━━━━━━━━━━━━━━━━━━━━━━━━━━━━━━━\u001b[0m \u001b[32m1.6/1.6 MB\u001b[0m \u001b[31m73.7 MB/s\u001b[0m eta \u001b[36m0:00:00\u001b[0m\n",
            "\u001b[2K   \u001b[90m━━━━━━━━━━━━━━━━━━━━━━━━━━━━━━━━━━━━━━━━\u001b[0m \u001b[32m915.6/915.6 kB\u001b[0m \u001b[31m58.4 MB/s\u001b[0m eta \u001b[36m0:00:00\u001b[0m\n",
            "\u001b[2K   \u001b[90m━━━━━━━━━━━━━━━━━━━━━━━━━━━━━━━━━━━━━━━━\u001b[0m \u001b[32m195.8/195.8 kB\u001b[0m \u001b[31m19.9 MB/s\u001b[0m eta \u001b[36m0:00:00\u001b[0m\n",
            "\u001b[2K   \u001b[90m━━━━━━━━━━━━━━━━━━━━━━━━━━━━━━━━━━━━━━━━\u001b[0m \u001b[32m454.3/454.3 kB\u001b[0m \u001b[31m38.1 MB/s\u001b[0m eta \u001b[36m0:00:00\u001b[0m\n",
            "\u001b[2K   \u001b[90m━━━━━━━━━━━━━━━━━━━━━━━━━━━━━━━━━━━━━━━━\u001b[0m \u001b[32m298.0/298.0 kB\u001b[0m \u001b[31m27.2 MB/s\u001b[0m eta \u001b[36m0:00:00\u001b[0m\n",
            "\u001b[2K   \u001b[90m━━━━━━━━━━━━━━━━━━━━━━━━━━━━━━━━━━━━━━━━\u001b[0m \u001b[32m1.2/1.2 MB\u001b[0m \u001b[31m66.3 MB/s\u001b[0m eta \u001b[36m0:00:00\u001b[0m\n",
            "\u001b[2K   \u001b[90m━━━━━━━━━━━━━━━━━━━━━━━━━━━━━━━━━━━━━━━━\u001b[0m \u001b[32m49.5/49.5 kB\u001b[0m \u001b[31m3.7 MB/s\u001b[0m eta \u001b[36m0:00:00\u001b[0m\n",
            "\u001b[?25h"
          ]
        }
      ],
      "source": [
        "!pip install -qU transformers einops llama-index llama-index-postprocessor-jinaai-rerank  llama-index-llms-huggingface \"huggingface_hub[inference]\""
      ]
    },
    {
      "cell_type": "markdown",
      "id": "EzhBY8pq_av9",
      "metadata": {
        "id": "EzhBY8pq_av9"
      },
      "source": [
        "### Download the Database\n",
        "\n",
        "Next, download the SQLite database `videogames.db` from [GitHub](https://github.com/bbrumm/databasestar/tree/main/sample_databases/sample_db_videogames/sqlite) to the local filespace If `wget` is not available on your system, download the database from [this link](https://github.com/bbrumm/databasestar/raw/main/sample_databases/sample_db_videogames/sqlite/videogames.db) and put it in the same directory where you're running this notebook:\n"
      ]
    },
    {
      "cell_type": "code",
      "execution_count": null,
      "id": "ec28e417-a4cb-4fab-a614-4867b84ec7f4",
      "metadata": {
        "id": "ec28e417-a4cb-4fab-a614-4867b84ec7f4",
        "colab": {
          "base_uri": "https://localhost:8080/"
        },
        "outputId": "603ba95c-dfca-43b1-8c35-90666cd39e68"
      },
      "outputs": [
        {
          "output_type": "stream",
          "name": "stdout",
          "text": [
            "--2024-12-18 11:47:34--  https://github.com/bbrumm/databasestar/raw/main/sample_databases/sample_db_videogames/sqlite/videogames.db\n",
            "Resolving github.com (github.com)... 20.205.243.166\n",
            "Connecting to github.com (github.com)|20.205.243.166|:443... connected.\n",
            "HTTP request sent, awaiting response... 302 Found\n",
            "Location: https://raw.githubusercontent.com/bbrumm/databasestar/main/sample_databases/sample_db_videogames/sqlite/videogames.db [following]\n",
            "--2024-12-18 11:47:35--  https://raw.githubusercontent.com/bbrumm/databasestar/main/sample_databases/sample_db_videogames/sqlite/videogames.db\n",
            "Resolving raw.githubusercontent.com (raw.githubusercontent.com)... 185.199.110.133, 185.199.109.133, 185.199.111.133, ...\n",
            "Connecting to raw.githubusercontent.com (raw.githubusercontent.com)|185.199.110.133|:443... connected.\n",
            "HTTP request sent, awaiting response... 200 OK\n",
            "Length: 1974272 (1.9M) [application/octet-stream]\n",
            "Saving to: ‘videogames.db’\n",
            "\n",
            "videogames.db       100%[===================>]   1.88M  --.-KB/s    in 0.009s  \n",
            "\n",
            "2024-12-18 11:47:35 (207 MB/s) - ‘videogames.db’ saved [1974272/1974272]\n",
            "\n"
          ]
        }
      ],
      "source": [
        "!wget https://github.com/bbrumm/databasestar/raw/main/sample_databases/sample_db_videogames/sqlite/videogames.db"
      ]
    },
    {
      "cell_type": "markdown",
      "id": "3GY3Q13NINd0",
      "metadata": {
        "id": "3GY3Q13NINd0"
      },
      "source": [
        "### Download and Run Jina Reranker v2\n",
        "\n",
        "The following code will download the model `jina-reranker-v2-base-multilingual` and run it locally:\n"
      ]
    },
    {
      "cell_type": "code",
      "execution_count": null,
      "id": "KB8xGaNXIjAC",
      "metadata": {
        "id": "KB8xGaNXIjAC",
        "colab": {
          "base_uri": "https://localhost:8080/",
          "height": 1000,
          "referenced_widgets": [
            "bb85b5c506f94a9aaa52006722cc84bb",
            "0d03a37d61b34039b1ba33de217485d3",
            "6a0ba03e0e69407281197873392c29d4",
            "a2f470e849324dfca1ea088330aceb29",
            "79466368794f40d58071acf02272a74c",
            "3e4ecdc7dadf49598ce77266ec637b1f",
            "e06b3f3939c24cb6a223a93dc31b0ed3",
            "42403e30e27444349c49a8db1190fec4",
            "cd1eb3983bd2412b8926932e28638cb2",
            "e84638a525a945ab92609811ee4deab3",
            "21a75564658e4952ae3df0565475e9ed",
            "35fa5687b5d54ff39bb0b07f0a5a5de3",
            "5977083828b54c889e6f9f4c0b2199b2",
            "463362f7c358427fae3150faa91e980a",
            "9b06bb777b3a4ffc8ff11f407ad8254c",
            "ddaebc8eda954eada828cc8ea64bb411",
            "d0fdbef585734adb85c976ac4d9cd257",
            "1515c64030ab45b9b22405b0b1258e31",
            "c9f5a27aee9f467f911a051f3a361d40",
            "df6fb5ba84094b52b6175b4bcd7b9f3a",
            "5240ee20f949403cb4793bc26525e837",
            "4ca5829607c340389e99b5f3fda3fd98",
            "bd41df2225654ca49fa8ce5bc7913f05",
            "c6114e6e89654cbc811d9af11942bf4f",
            "cbf3816e4a334f41a50b54773e0c23d3",
            "ac599144756442118426be1ce47f4be7",
            "08a9aae6e5d94f72ae2408ba70b222f9",
            "e954c487bfa64bfe9be4b6800bd727b1",
            "edd86e5d7de94c938a1fba37c92104ff",
            "1dbf26cca35b49c6be3db012312a05b4",
            "b068008484e647bb9db6001a99d50c06",
            "9e3bd143becd49e9917f2d9369f5a413",
            "a046f24006374f98837e0e1d3eec579c",
            "6376d6d93593420b8e3d674bd36cd887",
            "6263530127444cb49888eec30d7eaa8c",
            "3c2219a1a70642e8afb3b287e883a526",
            "ebcac6658dcd42eda46462c3895936f9",
            "cfc5df7032134a6ba3a6926ab59ef43e",
            "bc5a306fec044a2c9cc9918e71f7a339",
            "2d7cea30fbbe4730bb76bf0e22ab39bc",
            "25fba188226440818d481742d41a6e36",
            "b92dcd7395a2477db21cb739d03b3011",
            "4743f52f1a28435ab76faf40e76f9580",
            "273c071df304466da49c55c120fd594c",
            "9bd1b1b6dc7a4ff183c166314357da2b",
            "354f9ae1cb5f48e5bc63f1b7351f8fc8",
            "f27a6b5c847f46129b0c7a4529984d33",
            "11a1a5eaa65f46238e70243a7ef00331",
            "56f40e8b75a4425f9e6b73b19286cbaa",
            "228c31ce3a9442cb90cfc17e798beb7c",
            "7eb86baae18d485084658514afe81f21",
            "35e2131fb7da44059600140834834958",
            "3681a3a897674b8495a778f879caa0fd",
            "62652913687547cc8eec81f560a8d312",
            "e6371435f0384864aeb598d8ecbff27f",
            "96abd8b5a1034ec0a856962e7586a817",
            "b7907345cedf4dd296a8b70c56997e9d",
            "484d4838827f464d9352b61882806b0a",
            "f30e3fddec8145cab492116fc9914282",
            "97b0b4c8ff254848bc40a4597235961f",
            "d839035499d44524820f0d4b551c69aa",
            "c171a1d61fd343a08bd079f82dcec5c7",
            "bb36dc106a454763b1ee1c4fc03e5cfe",
            "e4cc6409d49d4442b5bc6ce3c508fe7d",
            "3166d148ae184cb3a6688ee525fefe35",
            "176d29662c7344c3b146fe82379715f2",
            "c750225b7c974b1895e2912f911acfea",
            "03eb33a881344ca09fdc6425cb2f36b3",
            "cff9d76d77ef496aab879d938a83edb2",
            "7904b1dd7bf84fe695e5007008d2bbed",
            "99794aab3ac348fb9f677da6d198f6a3",
            "700d3208b103499eb224fc4ee6c3c279",
            "835b05ef15034afa9bd8f3016e09323d",
            "53752fbd25a64559b8be762e64102629",
            "7782d0b67a6b415b8b3c78fe705a389c",
            "f4fea7d504eb4a3c8438b790fce88814",
            "12f2c0943df240f8be315177ea85209b",
            "02aa25fb9b7c4050b0228572e33915ba",
            "747684fe0cd741339fa959809cf6b717",
            "121cc955fab344508806250bfc64336c",
            "3acc3bbff8c04377a05bb11748d3eb28",
            "c5da9eccd55e4ea29bfa043518e66a62",
            "c79dfa55750540cfa3a94110a90dbe51",
            "9b2b90ae4873478da2f1549e77ed8342",
            "30aa51b867094538b8bb979c0b6cb90c",
            "2c25a992271745fc94e64345912adcc0",
            "331c1cbd590d46c79046f60b2624bb51",
            "0f7174f21f26489ca18a1d76b3b36507",
            "a0f3302343bb47c0862e1872b77ee803",
            "10fba10d8a284fa4b65f91249cb90b7f",
            "5e10c7040db64cac8e6fc1f8cade203f",
            "cde1cc064fce480d9ecaad3a77e63b64",
            "94d87e7efe7b44a488e1a6b042a741d8",
            "17c62ae915a241a69812e77fdcf7060b",
            "92318891eb664273ad5e3d1ce1b9c797",
            "30ba0e1c19514204a3bcf3a308f96030",
            "ab4c5be4a90440a48aeab4760acac64c",
            "7cf8094bf7504f488a1a67f6c792897e",
            "57cf38b494314566b96ed0c640ce6014"
          ]
        },
        "outputId": "76e5bec8-d366-4b34-d8dc-dc9175395ecd"
      },
      "outputs": [
        {
          "output_type": "display_data",
          "data": {
            "text/plain": [
              "config.json:   0%|          | 0.00/1.10k [00:00<?, ?B/s]"
            ],
            "application/vnd.jupyter.widget-view+json": {
              "version_major": 2,
              "version_minor": 0,
              "model_id": "bb85b5c506f94a9aaa52006722cc84bb"
            }
          },
          "metadata": {}
        },
        {
          "output_type": "display_data",
          "data": {
            "text/plain": [
              "configuration_xlm_roberta.py:   0%|          | 0.00/2.73k [00:00<?, ?B/s]"
            ],
            "application/vnd.jupyter.widget-view+json": {
              "version_major": 2,
              "version_minor": 0,
              "model_id": "35fa5687b5d54ff39bb0b07f0a5a5de3"
            }
          },
          "metadata": {}
        },
        {
          "output_type": "stream",
          "name": "stderr",
          "text": [
            "A new version of the following files was downloaded from https://huggingface.co/jinaai/jina-reranker-v2-base-multilingual:\n",
            "- configuration_xlm_roberta.py\n",
            ". Make sure to double-check they do not contain any added malicious code. To avoid downloading new versions of the code file, you can pin a revision.\n"
          ]
        },
        {
          "output_type": "display_data",
          "data": {
            "text/plain": [
              "modeling_xlm_roberta.py:   0%|          | 0.00/43.8k [00:00<?, ?B/s]"
            ],
            "application/vnd.jupyter.widget-view+json": {
              "version_major": 2,
              "version_minor": 0,
              "model_id": "bd41df2225654ca49fa8ce5bc7913f05"
            }
          },
          "metadata": {}
        },
        {
          "output_type": "display_data",
          "data": {
            "text/plain": [
              "block.py:   0%|          | 0.00/19.7k [00:00<?, ?B/s]"
            ],
            "application/vnd.jupyter.widget-view+json": {
              "version_major": 2,
              "version_minor": 0,
              "model_id": "6376d6d93593420b8e3d674bd36cd887"
            }
          },
          "metadata": {}
        },
        {
          "output_type": "display_data",
          "data": {
            "text/plain": [
              "mha.py:   0%|          | 0.00/28.0k [00:00<?, ?B/s]"
            ],
            "application/vnd.jupyter.widget-view+json": {
              "version_major": 2,
              "version_minor": 0,
              "model_id": "9bd1b1b6dc7a4ff183c166314357da2b"
            }
          },
          "metadata": {}
        },
        {
          "output_type": "stream",
          "name": "stderr",
          "text": [
            "A new version of the following files was downloaded from https://huggingface.co/jinaai/jina-reranker-v2-base-multilingual:\n",
            "- mha.py\n",
            ". Make sure to double-check they do not contain any added malicious code. To avoid downloading new versions of the code file, you can pin a revision.\n"
          ]
        },
        {
          "output_type": "display_data",
          "data": {
            "text/plain": [
              "mlp.py:   0%|          | 0.00/6.21k [00:00<?, ?B/s]"
            ],
            "application/vnd.jupyter.widget-view+json": {
              "version_major": 2,
              "version_minor": 0,
              "model_id": "96abd8b5a1034ec0a856962e7586a817"
            }
          },
          "metadata": {}
        },
        {
          "output_type": "stream",
          "name": "stderr",
          "text": [
            "A new version of the following files was downloaded from https://huggingface.co/jinaai/jina-reranker-v2-base-multilingual:\n",
            "- mlp.py\n",
            ". Make sure to double-check they do not contain any added malicious code. To avoid downloading new versions of the code file, you can pin a revision.\n",
            "A new version of the following files was downloaded from https://huggingface.co/jinaai/jina-reranker-v2-base-multilingual:\n",
            "- block.py\n",
            "- mha.py\n",
            "- mlp.py\n",
            ". Make sure to double-check they do not contain any added malicious code. To avoid downloading new versions of the code file, you can pin a revision.\n"
          ]
        },
        {
          "output_type": "display_data",
          "data": {
            "text/plain": [
              "xlm_padding.py:   0%|          | 0.00/9.82k [00:00<?, ?B/s]"
            ],
            "application/vnd.jupyter.widget-view+json": {
              "version_major": 2,
              "version_minor": 0,
              "model_id": "c750225b7c974b1895e2912f911acfea"
            }
          },
          "metadata": {}
        },
        {
          "output_type": "stream",
          "name": "stderr",
          "text": [
            "A new version of the following files was downloaded from https://huggingface.co/jinaai/jina-reranker-v2-base-multilingual:\n",
            "- xlm_padding.py\n",
            ". Make sure to double-check they do not contain any added malicious code. To avoid downloading new versions of the code file, you can pin a revision.\n"
          ]
        },
        {
          "output_type": "display_data",
          "data": {
            "text/plain": [
              "embedding.py:   0%|          | 0.00/2.56k [00:00<?, ?B/s]"
            ],
            "application/vnd.jupyter.widget-view+json": {
              "version_major": 2,
              "version_minor": 0,
              "model_id": "02aa25fb9b7c4050b0228572e33915ba"
            }
          },
          "metadata": {}
        },
        {
          "output_type": "stream",
          "name": "stderr",
          "text": [
            "A new version of the following files was downloaded from https://huggingface.co/jinaai/jina-reranker-v2-base-multilingual:\n",
            "- embedding.py\n",
            ". Make sure to double-check they do not contain any added malicious code. To avoid downloading new versions of the code file, you can pin a revision.\n",
            "A new version of the following files was downloaded from https://huggingface.co/jinaai/jina-reranker-v2-base-multilingual:\n",
            "- modeling_xlm_roberta.py\n",
            "- block.py\n",
            "- xlm_padding.py\n",
            "- embedding.py\n",
            ". Make sure to double-check they do not contain any added malicious code. To avoid downloading new versions of the code file, you can pin a revision.\n"
          ]
        },
        {
          "output_type": "display_data",
          "data": {
            "text/plain": [
              "model.safetensors:   0%|          | 0.00/557M [00:00<?, ?B/s]"
            ],
            "application/vnd.jupyter.widget-view+json": {
              "version_major": 2,
              "version_minor": 0,
              "model_id": "a0f3302343bb47c0862e1872b77ee803"
            }
          },
          "metadata": {}
        },
        {
          "output_type": "stream",
          "name": "stderr",
          "text": [
            "WARNING:transformers_modules.jinaai.jina-reranker-v2-base-multilingual.126747772a932960028d9f4dc93bd5d9c4869be4.modeling_xlm_roberta:flash_attn is not installed. Using PyTorch native attention implementation.\n",
            "WARNING:transformers_modules.jinaai.jina-reranker-v2-base-multilingual.126747772a932960028d9f4dc93bd5d9c4869be4.modeling_xlm_roberta:flash_attn is not installed. Using PyTorch native attention implementation.\n",
            "WARNING:transformers_modules.jinaai.jina-reranker-v2-base-multilingual.126747772a932960028d9f4dc93bd5d9c4869be4.modeling_xlm_roberta:flash_attn is not installed. Using PyTorch native attention implementation.\n",
            "WARNING:transformers_modules.jinaai.jina-reranker-v2-base-multilingual.126747772a932960028d9f4dc93bd5d9c4869be4.modeling_xlm_roberta:flash_attn is not installed. Using PyTorch native attention implementation.\n",
            "WARNING:transformers_modules.jinaai.jina-reranker-v2-base-multilingual.126747772a932960028d9f4dc93bd5d9c4869be4.modeling_xlm_roberta:flash_attn is not installed. Using PyTorch native attention implementation.\n",
            "WARNING:transformers_modules.jinaai.jina-reranker-v2-base-multilingual.126747772a932960028d9f4dc93bd5d9c4869be4.modeling_xlm_roberta:flash_attn is not installed. Using PyTorch native attention implementation.\n",
            "WARNING:transformers_modules.jinaai.jina-reranker-v2-base-multilingual.126747772a932960028d9f4dc93bd5d9c4869be4.modeling_xlm_roberta:flash_attn is not installed. Using PyTorch native attention implementation.\n",
            "WARNING:transformers_modules.jinaai.jina-reranker-v2-base-multilingual.126747772a932960028d9f4dc93bd5d9c4869be4.modeling_xlm_roberta:flash_attn is not installed. Using PyTorch native attention implementation.\n",
            "WARNING:transformers_modules.jinaai.jina-reranker-v2-base-multilingual.126747772a932960028d9f4dc93bd5d9c4869be4.modeling_xlm_roberta:flash_attn is not installed. Using PyTorch native attention implementation.\n",
            "WARNING:transformers_modules.jinaai.jina-reranker-v2-base-multilingual.126747772a932960028d9f4dc93bd5d9c4869be4.modeling_xlm_roberta:flash_attn is not installed. Using PyTorch native attention implementation.\n",
            "WARNING:transformers_modules.jinaai.jina-reranker-v2-base-multilingual.126747772a932960028d9f4dc93bd5d9c4869be4.modeling_xlm_roberta:flash_attn is not installed. Using PyTorch native attention implementation.\n",
            "WARNING:transformers_modules.jinaai.jina-reranker-v2-base-multilingual.126747772a932960028d9f4dc93bd5d9c4869be4.modeling_xlm_roberta:flash_attn is not installed. Using PyTorch native attention implementation.\n",
            "WARNING:transformers_modules.jinaai.jina-reranker-v2-base-multilingual.126747772a932960028d9f4dc93bd5d9c4869be4.modeling_xlm_roberta:flash_attn is not installed. Using PyTorch native attention implementation.\n"
          ]
        },
        {
          "output_type": "execute_result",
          "data": {
            "text/plain": [
              "XLMRobertaForSequenceClassification(\n",
              "  (roberta): XLMRobertaModel(\n",
              "    (embeddings): XLMRobertaEmbeddings(\n",
              "      (word_embeddings): Embedding(250002, 768, padding_idx=1)\n",
              "      (position_embeddings): Embedding(1026, 768)\n",
              "      (token_type_embeddings): Embedding(1, 768)\n",
              "    )\n",
              "    (emb_drop): Dropout(p=0.1, inplace=False)\n",
              "    (emb_ln): LayerNorm((768,), eps=1e-05, elementwise_affine=True)\n",
              "    (encoder): XLMRobertaEncoder(\n",
              "      (layers): ModuleList(\n",
              "        (0-11): 12 x Block(\n",
              "          (mixer): MHA(\n",
              "            (Wqkv): LinearResidual(in_features=768, out_features=2304, bias=True)\n",
              "            (inner_attn): SelfAttention(\n",
              "              (drop): Dropout(p=0.1, inplace=False)\n",
              "            )\n",
              "            (inner_cross_attn): CrossAttention(\n",
              "              (drop): Dropout(p=0.1, inplace=False)\n",
              "            )\n",
              "            (out_proj): Linear(in_features=768, out_features=768, bias=True)\n",
              "          )\n",
              "          (dropout1): Dropout(p=0.1, inplace=False)\n",
              "          (drop_path1): StochasticDepth(p=0.0, mode=row)\n",
              "          (norm1): LayerNorm((768,), eps=1e-05, elementwise_affine=True)\n",
              "          (mlp): Mlp(\n",
              "            (fc1): Linear(in_features=768, out_features=3072, bias=True)\n",
              "            (fc2): Linear(in_features=3072, out_features=768, bias=True)\n",
              "          )\n",
              "          (dropout2): Dropout(p=0.1, inplace=False)\n",
              "          (drop_path2): StochasticDepth(p=0.0, mode=row)\n",
              "          (norm2): LayerNorm((768,), eps=1e-05, elementwise_affine=True)\n",
              "        )\n",
              "      )\n",
              "    )\n",
              "  )\n",
              "  (classifier): XLMRobertaClassificationHead(\n",
              "    (dense): Linear(in_features=768, out_features=768, bias=True)\n",
              "    (dropout): Dropout(p=0.1, inplace=False)\n",
              "    (out_proj): Linear(in_features=768, out_features=1, bias=True)\n",
              "  )\n",
              ")"
            ]
          },
          "metadata": {},
          "execution_count": 3
        }
      ],
      "source": [
        "from transformers import AutoModelForSequenceClassification\n",
        "\n",
        "reranker_model = AutoModelForSequenceClassification.from_pretrained(\n",
        "    'jinaai/jina-reranker-v2-base-multilingual',\n",
        "    torch_dtype=\"auto\",\n",
        "    trust_remote_code=True,\n",
        ")\n",
        "\n",
        "reranker_model.to('cuda') # or 'cpu' if no GPU is available\n",
        "reranker_model.eval()\n"
      ]
    },
    {
      "cell_type": "markdown",
      "id": "SGgk4EmkOcy4",
      "metadata": {
        "id": "SGgk4EmkOcy4"
      },
      "source": [
        "### Set up the Interface to Mistral Instruct\n",
        "\n",
        "We will use LlamaIndex to create a holder object for the connection to the Hugging Face inference API and to the copy of `mistralai/Mixtral-8x7B-Instruct-v0.1` running there."
      ]
    },
    {
      "cell_type": "markdown",
      "id": "ee7bedf5-4730-4ac1-8a93-7f0135779d9b",
      "metadata": {
        "id": "ee7bedf5-4730-4ac1-8a93-7f0135779d9b"
      },
      "source": [
        "\n",
        "First, get a Hugging Face access token from your [Hugging Face Account Settings page](https://huggingface.co/settings/tokens).\n",
        "\n",
        "Enter it when prompted below:"
      ]
    },
    {
      "cell_type": "code",
      "execution_count": null,
      "id": "54122f11-e0c3-4e89-bf54-f0eece57cf71",
      "metadata": {
        "id": "54122f11-e0c3-4e89-bf54-f0eece57cf71",
        "colab": {
          "base_uri": "https://localhost:8080/"
        },
        "outputId": "f02c87c8-3801-4cfc-f92e-46ce3a02b09f"
      },
      "outputs": [
        {
          "name": "stdout",
          "output_type": "stream",
          "text": [
            "Paste your Hugging Face access token here: \n",
            "··········\n"
          ]
        }
      ],
      "source": [
        "import getpass\n",
        "\n",
        "print(\"Paste your Hugging Face access token here: \")\n",
        "hf_token = getpass.getpass()"
      ]
    },
    {
      "cell_type": "markdown",
      "id": "4HpY0xohPCWW",
      "metadata": {
        "id": "4HpY0xohPCWW"
      },
      "source": [
        "Next, initialize an instance of the `HuggingFaceInferenceAPI` class from LlamaIndex and store it as `mistral_llm`:"
      ]
    },
    {
      "cell_type": "code",
      "execution_count": null,
      "id": "e4a2ea12-d5d8-469b-afac-af9aed5b2240",
      "metadata": {
        "id": "e4a2ea12-d5d8-469b-afac-af9aed5b2240",
        "colab": {
          "base_uri": "https://localhost:8080/"
        },
        "outputId": "5893ae76-ff9f-4c56-9a54-d1b547528614"
      },
      "outputs": [
        {
          "output_type": "stream",
          "name": "stderr",
          "text": [
            "<ipython-input-5-2aa73ccaea1f>:3: DeprecationWarning: Call to deprecated class HuggingFaceInferenceAPI. (Deprecated in favor of `HuggingFaceInferenceAPI` from `llama-index-llms-huggingface-api` which should be used instead.)\n",
            "  mistral_llm = HuggingFaceInferenceAPI(\n"
          ]
        }
      ],
      "source": [
        "from llama_index.llms.huggingface import HuggingFaceInferenceAPI\n",
        "\n",
        "mistral_llm = HuggingFaceInferenceAPI(\n",
        "    model_name=\"mistralai/Mixtral-8x7B-Instruct-v0.1\", token=hf_token\n",
        ")"
      ]
    },
    {
      "cell_type": "markdown",
      "id": "9257efd9-806a-4ada-871a-406b397fe127",
      "metadata": {
        "id": "9257efd9-806a-4ada-871a-406b397fe127"
      },
      "source": [
        "## Using SQL-Aware Jina Reranker v2\n",
        "\n",
        "We extracted the eight table definitions from the [database import files located on GitHub](https://github.com/bbrumm/databasestar/tree/main/sample_databases/sample_db_videogames/sqlite). Run the command below to put them into a Python list named `table_declarations`:"
      ]
    },
    {
      "cell_type": "code",
      "execution_count": null,
      "id": "74677bb6-cec4-4ddc-8379-d13fb3366fb1",
      "metadata": {
        "id": "74677bb6-cec4-4ddc-8379-d13fb3366fb1"
      },
      "outputs": [],
      "source": [
        "table_declarations = ['CREATE TABLE platform (\\n\\tid INTEGER PRIMARY KEY,\\n\\tplatform_name TEXT DEFAULT NULL\\n);',\n",
        " 'CREATE TABLE genre (\\n\\tid INTEGER PRIMARY KEY,\\n\\tgenre_name TEXT DEFAULT NULL\\n);',\n",
        " 'CREATE TABLE publisher (\\n\\tid INTEGER PRIMARY KEY,\\n\\tpublisher_name TEXT DEFAULT NULL\\n);',\n",
        " 'CREATE TABLE region (\\n\\tid INTEGER PRIMARY KEY,\\n\\tregion_name TEXT DEFAULT NULL\\n);',\n",
        " 'CREATE TABLE game (\\n\\tid INTEGER PRIMARY KEY,\\n\\tgenre_id INTEGER,\\n\\tgame_name TEXT DEFAULT NULL,\\n\\tCONSTRAINT fk_gm_gen FOREIGN KEY (genre_id) REFERENCES genre(id)\\n);',\n",
        " 'CREATE TABLE game_publisher (\\n\\tid INTEGER PRIMARY KEY,\\n\\tgame_id INTEGER DEFAULT NULL,\\n\\tpublisher_id INTEGER DEFAULT NULL,\\n\\tCONSTRAINT fk_gpu_gam FOREIGN KEY (game_id) REFERENCES game(id),\\n\\tCONSTRAINT fk_gpu_pub FOREIGN KEY (publisher_id) REFERENCES publisher(id)\\n);',\n",
        " 'CREATE TABLE game_platform (\\n\\tid INTEGER PRIMARY KEY,\\n\\tgame_publisher_id INTEGER DEFAULT NULL,\\n\\tplatform_id INTEGER DEFAULT NULL,\\n\\trelease_year INTEGER DEFAULT NULL,\\n\\tCONSTRAINT fk_gpl_gp FOREIGN KEY (game_publisher_id) REFERENCES game_publisher(id),\\n\\tCONSTRAINT fk_gpl_pla FOREIGN KEY (platform_id) REFERENCES platform(id)\\n);',\n",
        " 'CREATE TABLE region_sales (\\n\\tregion_id INTEGER DEFAULT NULL,\\n\\tgame_platform_id INTEGER DEFAULT NULL,\\n\\tnum_sales REAL,\\n   CONSTRAINT fk_rs_gp FOREIGN KEY (game_platform_id) REFERENCES game_platform(id),\\n\\tCONSTRAINT fk_rs_reg FOREIGN KEY (region_id) REFERENCES region(id)\\n);']\n"
      ]
    },
    {
      "cell_type": "markdown",
      "id": "I8ZRU3bxQZUf",
      "metadata": {
        "id": "I8ZRU3bxQZUf"
      },
      "source": [
        "Now, we define a function that takes a natural language query and the list of table definitions, scores all of them with Jina Reranker v2, returning them in order from highest scoring to lowest:"
      ]
    },
    {
      "cell_type": "code",
      "execution_count": null,
      "id": "kJ_JwS-vQkj9",
      "metadata": {
        "id": "kJ_JwS-vQkj9"
      },
      "outputs": [],
      "source": [
        "from typing import List, Tuple\n",
        "\n",
        "def rank_tables(query: str, table_specs: List[str], top_n:int=0) -> List[Tuple[float, str]]:\n",
        "  \"\"\"\n",
        "  Get sorted pairs of scores and table specifications, then return the top N,\n",
        "  or all if top_n is 0 or default.\n",
        "  \"\"\"\n",
        "  pairs = [[query, table_spec] for table_spec in table_specs]\n",
        "  scores = reranker_model.compute_score(pairs)\n",
        "  scored_tables = [(score, table_spec) for score, table_spec in zip(scores, table_specs)]\n",
        "  scored_tables.sort(key=lambda x: x[0], reverse=True)\n",
        "  if top_n and top_n < len(scored_tables):\n",
        "    return scored_tables[0:top_n]\n",
        "  return scored_tables"
      ]
    },
    {
      "cell_type": "markdown",
      "id": "vk1YYqzesB-f",
      "metadata": {
        "id": "vk1YYqzesB-f"
      },
      "source": [
        "Jina Reranker v2 scores every table definition we give it and by default this function will return all of them with their scores. The optional argument `top_n` limits the number of results returned to a user-defined number, starting with the highest scoring one."
      ]
    },
    {
      "cell_type": "markdown",
      "id": "zD1rdBiYQa_H",
      "metadata": {
        "id": "zD1rdBiYQa_H"
      },
      "source": [
        "Try it out. First, define a query:"
      ]
    },
    {
      "cell_type": "code",
      "execution_count": null,
      "id": "4859647d-2bc2-4238-a5a1-235bed4c4f55",
      "metadata": {
        "id": "4859647d-2bc2-4238-a5a1-235bed4c4f55"
      },
      "outputs": [],
      "source": [
        "user_query = \"Identify the top 10 platforms by total sales.\""
      ]
    },
    {
      "cell_type": "markdown",
      "id": "H0O6qqMGRfu2",
      "metadata": {
        "id": "H0O6qqMGRfu2"
      },
      "source": [
        "Run `rank_tables` to get a list of table definitions back. Let's set `top_n` to 3 to limit the return list size and assign it to the variable `ranked_tables`, then inspect the result:"
      ]
    },
    {
      "cell_type": "code",
      "execution_count": null,
      "id": "0OU98s_aRWqM",
      "metadata": {
        "id": "0OU98s_aRWqM",
        "colab": {
          "base_uri": "https://localhost:8080/",
          "height": 258,
          "referenced_widgets": [
            "c6cf39afca154ca4bb3a56ac68a8bb5d",
            "9c1c0947af85487ca8ce3f6b38691c21",
            "ba5079c22be14310998f9fa11a802a81",
            "39e4765e988741c1bdb6595528fa3a65",
            "cc497325a80f4622a6004900f82bb2cf",
            "a5158aa56e0b48a0b73293d9eb10d799",
            "f7307f902b624dd3a73b5fd97c5d51a7",
            "27f311c2717d40c7a667c84908e9844b",
            "9fb23f293921412fa541b87d9422b321",
            "f64f6fe2008e4267a497706cc3fe7c4a",
            "dabf2137894148688eca2ffbdb32967f",
            "6076ddfe0ece415d801b0f38a851493c",
            "b7e1fd79cf1c4f568a2b4dea94a149bc",
            "28a39dc80bc444dc8ee86db97aecb8ee",
            "aea7b6c9eb174589b71bcf19b48dbaa7",
            "855dfa95e92c4d79b37da579772ddc16",
            "2e018aa40ffc4d63ba8315f9ea780924",
            "c1ea51ba05f04a4d87876a12d7ebba55",
            "14d09be9c0f84441b514465f20df4613",
            "d42d8085c5e9471fa793e913fe24aa34",
            "2b8a959187dd4ae58a8d75e80f53a752",
            "87110cfef8d74330b6ac7590021834cd",
            "d7041b34d5ed4f7480435255825f88ef",
            "70b61a718a834719bfa0d9b11b1c9154",
            "02a3b7ce2dcc49fa91f0aec5aea53c20",
            "db346207e22f4a70b863602f8bb22ebc",
            "db6d5dd1231649d7b1b04363e4f2de61",
            "bbb3488719614d7a93883d9d93dfcb50",
            "e3a2ac7e41164574ba872d4f04502d85",
            "a8e95fc93e1d4b3e8d9918639d2b4983",
            "243469bd68a042b99c6d3e32c590e0fa",
            "ab6a60db12644e48bab308934e569467",
            "80af872f8abc42e591b63104148aefc8"
          ]
        },
        "outputId": "bcf1f430-a864-481b-e9fc-c7faa47e1a7d"
      },
      "outputs": [
        {
          "output_type": "display_data",
          "data": {
            "text/plain": [
              "tokenizer_config.json:   0%|          | 0.00/1.15k [00:00<?, ?B/s]"
            ],
            "application/vnd.jupyter.widget-view+json": {
              "version_major": 2,
              "version_minor": 0,
              "model_id": "c6cf39afca154ca4bb3a56ac68a8bb5d"
            }
          },
          "metadata": {}
        },
        {
          "output_type": "display_data",
          "data": {
            "text/plain": [
              "tokenizer.json:   0%|          | 0.00/17.1M [00:00<?, ?B/s]"
            ],
            "application/vnd.jupyter.widget-view+json": {
              "version_major": 2,
              "version_minor": 0,
              "model_id": "6076ddfe0ece415d801b0f38a851493c"
            }
          },
          "metadata": {}
        },
        {
          "output_type": "display_data",
          "data": {
            "text/plain": [
              "special_tokens_map.json:   0%|          | 0.00/964 [00:00<?, ?B/s]"
            ],
            "application/vnd.jupyter.widget-view+json": {
              "version_major": 2,
              "version_minor": 0,
              "model_id": "d7041b34d5ed4f7480435255825f88ef"
            }
          },
          "metadata": {}
        },
        {
          "output_type": "execute_result",
          "data": {
            "text/plain": [
              "[(0.5712883472442627,\n",
              "  'CREATE TABLE region_sales (\\n\\tregion_id INTEGER DEFAULT NULL,\\n\\tgame_platform_id INTEGER DEFAULT NULL,\\n\\tnum_sales REAL,\\n   CONSTRAINT fk_rs_gp FOREIGN KEY (game_platform_id) REFERENCES game_platform(id),\\n\\tCONSTRAINT fk_rs_reg FOREIGN KEY (region_id) REFERENCES region(id)\\n);'),\n",
              " (0.4287116527557373,\n",
              "  'CREATE TABLE platform (\\n\\tid INTEGER PRIMARY KEY,\\n\\tplatform_name TEXT DEFAULT NULL\\n);'),\n",
              " (0.26740819215774536,\n",
              "  'CREATE TABLE game_platform (\\n\\tid INTEGER PRIMARY KEY,\\n\\tgame_publisher_id INTEGER DEFAULT NULL,\\n\\tplatform_id INTEGER DEFAULT NULL,\\n\\trelease_year INTEGER DEFAULT NULL,\\n\\tCONSTRAINT fk_gpl_gp FOREIGN KEY (game_publisher_id) REFERENCES game_publisher(id),\\n\\tCONSTRAINT fk_gpl_pla FOREIGN KEY (platform_id) REFERENCES platform(id)\\n);')]"
            ]
          },
          "metadata": {},
          "execution_count": 9
        }
      ],
      "source": [
        "ranked_tables = rank_tables(user_query, table_declarations, top_n=3)\n",
        "ranked_tables"
      ]
    },
    {
      "cell_type": "markdown",
      "id": "1Oh7cX_WT-bc",
      "metadata": {
        "id": "1Oh7cX_WT-bc"
      },
      "source": [
        "The output should include the tables `region_sales`, `platform` and `game_platform`, which all seem to be reasonable places to look for an answer to the query."
      ]
    },
    {
      "cell_type": "markdown",
      "id": "adf28cd8-974a-457d-90b6-8719d8d860fc",
      "metadata": {
        "id": "adf28cd8-974a-457d-90b6-8719d8d860fc"
      },
      "source": [
        "## Using Mistral Instruct to Generate SQL\n",
        "\n",
        "We're going to have Mistral Instruct v0.1 write an SQL query that fulfils the user's query, based on the declarations of the top three tables according to the reranker."
      ]
    },
    {
      "cell_type": "markdown",
      "id": "df5d5f53-9cac-42ad-8ac8-627882e1046c",
      "metadata": {
        "id": "df5d5f53-9cac-42ad-8ac8-627882e1046c"
      },
      "source": [
        "First, we make a prompt for that purpose using LlamaIndex' `PromptTemplate` class:"
      ]
    },
    {
      "cell_type": "code",
      "execution_count": null,
      "id": "660c810a-96ff-4726-9bf1-8084ada9a80e",
      "metadata": {
        "id": "660c810a-96ff-4726-9bf1-8084ada9a80e"
      },
      "outputs": [],
      "source": [
        "from llama_index.core import PromptTemplate\n",
        "\n",
        "make_sql_prompt_tmpl_text = (\n",
        "    \"\"\"\n",
        "Generate a SQL query to answer the following question from the user:\n",
        "\\\"{query_str}\\\"\n",
        "\n",
        "The SQL query should use only tables with the following SQL definitions:\n",
        "\n",
        "Table 1:\n",
        "{table_1}\n",
        "\n",
        "Table 2:\n",
        "{table_2}\n",
        "\n",
        "Table 3:\n",
        "{table_3}\n",
        "\n",
        "Make sure you ONLY output an SQL query and no explanation.\n",
        "\"\"\"\n",
        ")\n",
        "make_sql_prompt_tmpl = PromptTemplate(make_sql_prompt_tmpl_text)"
      ]
    },
    {
      "cell_type": "markdown",
      "id": "594693a2-deb0-4c58-bc82-cb3d6428b1a4",
      "metadata": {
        "id": "594693a2-deb0-4c58-bc82-cb3d6428b1a4"
      },
      "source": [
        "We use the `format` method to fill in the template fields with the user query and top three table declarations from Jina Reranker v2:"
      ]
    },
    {
      "cell_type": "code",
      "execution_count": null,
      "id": "9f620d53-f459-45f9-936f-1d16a97ae357",
      "metadata": {
        "id": "9f620d53-f459-45f9-936f-1d16a97ae357"
      },
      "outputs": [],
      "source": [
        "make_sql_prompt = make_sql_prompt_tmpl.format(query_str=user_query,\n",
        "                                              table_1=ranked_tables[0][1],\n",
        "                                              table_2=ranked_tables[1][1],\n",
        "                                              table_3=ranked_tables[2][1])"
      ]
    },
    {
      "cell_type": "markdown",
      "id": "dafb58d0-2bfb-412a-ae0b-6cb88a797045",
      "metadata": {
        "id": "dafb58d0-2bfb-412a-ae0b-6cb88a797045"
      },
      "source": [
        "You can see the actual text we're going to pass to Mistral Instruct:"
      ]
    },
    {
      "cell_type": "code",
      "execution_count": null,
      "id": "bf1cd783-e823-4292-8b60-42a10c2e54c0",
      "metadata": {
        "id": "bf1cd783-e823-4292-8b60-42a10c2e54c0",
        "colab": {
          "base_uri": "https://localhost:8080/"
        },
        "outputId": "405afadf-82b1-4904-eec5-5ab665a2a597"
      },
      "outputs": [
        {
          "output_type": "stream",
          "name": "stdout",
          "text": [
            "\n",
            "Generate a SQL query to answer the following question from the user:\n",
            "\"Identify the top 10 platforms by total sales.\"\n",
            "\n",
            "The SQL query should use only tables with the following SQL definitions:\n",
            "\n",
            "Table 1:\n",
            "CREATE TABLE region_sales (\n",
            "\tregion_id INTEGER DEFAULT NULL,\n",
            "\tgame_platform_id INTEGER DEFAULT NULL,\n",
            "\tnum_sales REAL,\n",
            "   CONSTRAINT fk_rs_gp FOREIGN KEY (game_platform_id) REFERENCES game_platform(id),\n",
            "\tCONSTRAINT fk_rs_reg FOREIGN KEY (region_id) REFERENCES region(id)\n",
            ");\n",
            "\n",
            "Table 2:\n",
            "CREATE TABLE platform (\n",
            "\tid INTEGER PRIMARY KEY,\n",
            "\tplatform_name TEXT DEFAULT NULL\n",
            ");\n",
            "\n",
            "Table 3:\n",
            "CREATE TABLE game_platform (\n",
            "\tid INTEGER PRIMARY KEY,\n",
            "\tgame_publisher_id INTEGER DEFAULT NULL,\n",
            "\tplatform_id INTEGER DEFAULT NULL,\n",
            "\trelease_year INTEGER DEFAULT NULL,\n",
            "\tCONSTRAINT fk_gpl_gp FOREIGN KEY (game_publisher_id) REFERENCES game_publisher(id),\n",
            "\tCONSTRAINT fk_gpl_pla FOREIGN KEY (platform_id) REFERENCES platform(id)\n",
            ");\n",
            "\n",
            "Make sure you ONLY output an SQL query and no explanation.\n",
            "\n"
          ]
        }
      ],
      "source": [
        "print(make_sql_prompt)"
      ]
    },
    {
      "cell_type": "markdown",
      "id": "df1d4d6b-5e8f-45fd-94bc-1bfe1819ea7a",
      "metadata": {
        "id": "df1d4d6b-5e8f-45fd-94bc-1bfe1819ea7a"
      },
      "source": [
        "Now let's send the prompt to Mistral Instruct and retrieve its response:"
      ]
    },
    {
      "cell_type": "code",
      "execution_count": null,
      "id": "c099c16b-4295-45e7-8dc0-a1ec4e1691b4",
      "metadata": {
        "id": "c099c16b-4295-45e7-8dc0-a1ec4e1691b4",
        "colab": {
          "base_uri": "https://localhost:8080/"
        },
        "outputId": "a78d2db8-f39f-4112-dce9-1f4c8ce000d7"
      },
      "outputs": [
        {
          "output_type": "stream",
          "name": "stdout",
          "text": [
            "\n",
            "SELECT p.platform_name, SUM(rs.num_sales) as total_sales\n",
            "FROM region_sales rs\n",
            "JOIN game_platform gp ON rs.game_platform_id = gp.id\n",
            "JOIN platform p ON gp.platform_id = p.id\n",
            "GROUP BY p.platform_name\n",
            "ORDER BY total_sales DESC\n",
            "LIMIT 10;\n"
          ]
        }
      ],
      "source": [
        "response = mistral_llm.complete(make_sql_prompt)\n",
        "sql_query = str(response)\n",
        "print(sql_query)"
      ]
    },
    {
      "cell_type": "markdown",
      "id": "ca5291a8-6435-4832-b9e5-8549fae2249b",
      "metadata": {
        "id": "ca5291a8-6435-4832-b9e5-8549fae2249b"
      },
      "source": [
        "## Running the SQL query\n",
        "\n",
        "Use the built-in Python interface to SQLite to run the query above\n",
        "against the database `videogames.db`:"
      ]
    },
    {
      "cell_type": "code",
      "execution_count": null,
      "id": "08492c60-4c45-40a3-9b90-fd1b3abafea9",
      "metadata": {
        "id": "08492c60-4c45-40a3-9b90-fd1b3abafea9"
      },
      "outputs": [],
      "source": [
        "import sqlite3\n",
        "\n",
        "con = sqlite3.connect(\"videogames.db\")\n",
        "cur = con.cursor()\n",
        "sql_response = cur.execute(sql_query).fetchall()"
      ]
    },
    {
      "cell_type": "markdown",
      "id": "LHqzMjSGrEKx",
      "metadata": {
        "id": "LHqzMjSGrEKx"
      },
      "source": [
        "For details on the interface to SQLite, [see the Python3 documentation](https://docs.python.org/3/library/sqlite3.html)."
      ]
    },
    {
      "cell_type": "markdown",
      "id": "7d8ea35a-04b5-477f-84d2-22b78fdd450f",
      "metadata": {
        "id": "7d8ea35a-04b5-477f-84d2-22b78fdd450f"
      },
      "source": [
        "Inspect the result:"
      ]
    },
    {
      "cell_type": "code",
      "execution_count": null,
      "id": "207b4e03-2061-4868-9d10-245c90615724",
      "metadata": {
        "id": "207b4e03-2061-4868-9d10-245c90615724",
        "colab": {
          "base_uri": "https://localhost:8080/"
        },
        "outputId": "16e331e4-3c36-4a76-eaef-0c676c06110a"
      },
      "outputs": [
        {
          "output_type": "execute_result",
          "data": {
            "text/plain": [
              "[('PS2', 1233.5599999999467),\n",
              " ('X360', 972.1799999999757),\n",
              " ('PS3', 949.3799999999832),\n",
              " ('Wii', 909.1999999999789),\n",
              " ('DS', 817.939999999971),\n",
              " ('PS', 727.5599999999823),\n",
              " ('GBA', 312.8799999999974),\n",
              " ('PSP', 291.65999999999724),\n",
              " ('PS4', 278.15999999999946),\n",
              " ('PC', 254.6199999999989)]"
            ]
          },
          "metadata": {},
          "execution_count": 15
        }
      ],
      "source": [
        "sql_response"
      ]
    },
    {
      "cell_type": "markdown",
      "id": "2f50e18e-1771-4cca-b737-9362bb2c84a3",
      "metadata": {
        "id": "2f50e18e-1771-4cca-b737-9362bb2c84a3"
      },
      "source": [
        "You can check if this is correct by running your own SQL query. The sales data stored in this database is in the form of floating point numbers, presumably thousands or millions of unit sales."
      ]
    },
    {
      "cell_type": "markdown",
      "id": "286cae31-b645-48a3-8c1c-021f44f9f77d",
      "metadata": {
        "id": "286cae31-b645-48a3-8c1c-021f44f9f77d"
      },
      "source": [
        "## Getting a Natural Language Answer\n",
        "\n",
        "Now we will pass the user's query, the SQL query, and the result back to Mistral Instruct with a new prompt template.\n",
        "\n",
        "First, make the new prompt template using LlamaIndex, the same as above:"
      ]
    },
    {
      "cell_type": "code",
      "execution_count": null,
      "id": "48c9260a-62c0-4643-ba51-28432868c108",
      "metadata": {
        "id": "48c9260a-62c0-4643-ba51-28432868c108"
      },
      "outputs": [],
      "source": [
        "rag_prompt_tmpl_str = (\n",
        "    \"\"\"\n",
        "Use the information in the JSON table to answer the following user query.\n",
        "Do not explain anything, just answer concisely. Use natural language in your\n",
        "answer, not computer formatting.\n",
        "\n",
        "USER QUERY: {query_str}\n",
        "\n",
        "JSON table:\n",
        "{json_table}\n",
        "\n",
        "This table was generated by the following SQL query:\n",
        "{sql_query}\n",
        "\n",
        "Answer ONLY using the information in the table and the SQL query, and if the\n",
        "table does not provide the information to answer the question, answer\n",
        "\"No Information\".\n",
        "\"\"\"\n",
        ")\n",
        "rag_prompt_tmpl = PromptTemplate(rag_prompt_tmpl_str)"
      ]
    },
    {
      "cell_type": "markdown",
      "id": "78576d8c-30a0-4ab3-99ce-24c50d18a7b8",
      "metadata": {
        "id": "78576d8c-30a0-4ab3-99ce-24c50d18a7b8"
      },
      "source": [
        "We will convert the SQL output into JSON, a format Mistral Instruct v0.1\n",
        "understands.\n",
        "\n",
        "Populate the template fields:"
      ]
    },
    {
      "cell_type": "code",
      "execution_count": null,
      "id": "5631fa1e-dd8f-42db-82a7-f1e3a5544a40",
      "metadata": {
        "id": "5631fa1e-dd8f-42db-82a7-f1e3a5544a40"
      },
      "outputs": [],
      "source": [
        "import json\n",
        "\n",
        "rag_prompt = rag_prompt_tmpl.format(query_str=\"Identify the top 10 platforms by total sales\",\n",
        "                                    json_table=json.dumps(sql_response),\n",
        "                                    sql_query=sql_query)"
      ]
    },
    {
      "cell_type": "markdown",
      "id": "03c1092f-6715-459e-9402-1618729d419c",
      "metadata": {
        "id": "03c1092f-6715-459e-9402-1618729d419c"
      },
      "source": [
        "Now solicit a natural language response from Mistral Instruct:"
      ]
    },
    {
      "cell_type": "code",
      "execution_count": null,
      "id": "70efddbb-8514-4985-9126-bbb9a55d0c63",
      "metadata": {
        "id": "70efddbb-8514-4985-9126-bbb9a55d0c63",
        "colab": {
          "base_uri": "https://localhost:8080/"
        },
        "outputId": "e22ec193-0923-4c05-adc0-9af5de936b6c"
      },
      "outputs": [
        {
          "output_type": "stream",
          "name": "stdout",
          "text": [
            "\n",
            "Answer:\n",
            "\n",
            "PS2, X360, PS3, Wii, DS, PS, GBA, PSP, PS4, PC\n"
          ]
        }
      ],
      "source": [
        "rag_response = mistral_llm.complete(rag_prompt)\n",
        "print(str(rag_response))"
      ]
    },
    {
      "cell_type": "markdown",
      "id": "60d0fe8f-1f67-44fb-bd90-a8a786086e99",
      "metadata": {
        "id": "60d0fe8f-1f67-44fb-bd90-a8a786086e99"
      },
      "source": [
        "## Try it yourself\n",
        "\n",
        "Let's organize all that into one function with exception trapping:"
      ]
    },
    {
      "cell_type": "code",
      "execution_count": null,
      "id": "1bbc48a6-e456-4b1f-9949-720b18230c8b",
      "metadata": {
        "id": "1bbc48a6-e456-4b1f-9949-720b18230c8b"
      },
      "outputs": [],
      "source": [
        "def answer_sql(user_query: str) -> str:\n",
        "  try:\n",
        "    ranked_tables = rank_tables(user_query, table_declarations, top_n=3)\n",
        "  except Exception as e:\n",
        "    print(f\"Ranking failed.\\nUser query:\\n{user_query}\\n\\n\")\n",
        "    raise(e)\n",
        "\n",
        "  make_sql_prompt = make_sql_prompt_tmpl.format(query_str=user_query,\n",
        "                                                table_1=ranked_tables[0][1],\n",
        "                                                table_2=ranked_tables[1][1],\n",
        "                                                table_3=ranked_tables[2][1])\n",
        "\n",
        "  try:\n",
        "    response = mistral_llm.complete(make_sql_prompt)\n",
        "  except Exception as e:\n",
        "    print(f\"SQL query generation failed\\nPrompt:\\n{make_sql_prompt}\\n\\n\")\n",
        "    raise(e)\n",
        "\n",
        "  # Backslash removal is a necessary hack because sometimes Mistral puts them\n",
        "  # in its generated code.\n",
        "  sql_query = str(response).replace(\"\\\\\", \"\")\n",
        "\n",
        "  try:\n",
        "    sql_response = sqlite3.connect(\"videogames.db\").cursor().execute(sql_query).fetchall()\n",
        "  except Exception as e:\n",
        "    print(f\"SQL querying failed. Query:\\n{sql_query}\\n\\n\")\n",
        "    raise(e)\n",
        "\n",
        "  rag_prompt = rag_prompt_tmpl.format(query_str=user_query,\n",
        "                                      json_table=json.dumps(sql_response),\n",
        "                                      sql_query=sql_query)\n",
        "  try:\n",
        "    rag_response = mistral_llm.complete(rag_prompt)\n",
        "    return str(rag_response)\n",
        "  except Exception as e:\n",
        "    print(f\"Answer generation failed. Prompt:\\n{rag_prompt}\\n\\n\")\n",
        "    raise(e)"
      ]
    },
    {
      "cell_type": "markdown",
      "id": "5af30fba-d380-42da-97b8-00e5ead978e8",
      "metadata": {
        "id": "5af30fba-d380-42da-97b8-00e5ead978e8"
      },
      "source": [
        "Try it out:"
      ]
    },
    {
      "cell_type": "code",
      "execution_count": null,
      "id": "5ce3d50d-6f96-4647-a584-c9f70e400449",
      "metadata": {
        "id": "5ce3d50d-6f96-4647-a584-c9f70e400449",
        "colab": {
          "base_uri": "https://localhost:8080/"
        },
        "outputId": "fa12f072-9c0e-4cff-bba3-9e77fc4cde10"
      },
      "outputs": [
        {
          "output_type": "stream",
          "name": "stdout",
          "text": [
            "\n",
            "Answer:\n",
            "\n",
            "The top 10 platforms by total sales are:\n",
            "\n",
            "1. PS2 with 1233.56 sales\n",
            "2. X360 with 972.18 sales\n",
            "3. PS3 with 949.38 sales\n",
            "4. Wii with 909.20 sales\n",
            "5. DS with 817.94 sales\n",
            "6. PS with 727.56 sales\n",
            "7. GBA with 312.88 sales\n",
            "8. PSP with 291.66 sales\n",
            "9. PS4 with 278.16 sales\n",
            "10. PC with 254.62 sales\n"
          ]
        }
      ],
      "source": [
        "print(answer_sql(\"Identify the top 10 platforms by total sales.\"))"
      ]
    },
    {
      "cell_type": "markdown",
      "id": "0fde4b5a-1b1f-4142-9c8b-30695149db6b",
      "metadata": {
        "id": "0fde4b5a-1b1f-4142-9c8b-30695149db6b"
      },
      "source": [
        "Try some other queries:"
      ]
    },
    {
      "cell_type": "code",
      "execution_count": null,
      "id": "00d4071c-657f-495d-ba8f-112bb7286943",
      "metadata": {
        "id": "00d4071c-657f-495d-ba8f-112bb7286943",
        "colab": {
          "base_uri": "https://localhost:8080/"
        },
        "outputId": "4b4ec258-08dc-4f43-efb4-f08a1ef54dc7"
      },
      "outputs": [
        {
          "output_type": "stream",
          "name": "stdout",
          "text": [
            "\n",
            "ANSWER:\n",
            "Europe: $2410.37\n",
            "Japan: $1284.33\n",
            "North America: $4335.07\n",
            "Other: $789.33\n"
          ]
        }
      ],
      "source": [
        "print(answer_sql(\"Summarize sales by region.\"))"
      ]
    },
    {
      "cell_type": "code",
      "execution_count": null,
      "id": "dc6d927e-be00-4476-936f-34acdf7730fe",
      "metadata": {
        "id": "dc6d927e-be00-4476-936f-34acdf7730fe",
        "colab": {
          "base_uri": "https://localhost:8080/"
        },
        "outputId": "064a1b64-91f0-4b15-e373-a49aecadc68e"
      },
      "outputs": [
        {
          "output_type": "stream",
          "name": "stdout",
          "text": [
            "\n",
            "Answer:\n",
            "Namco Bandai Games\n"
          ]
        }
      ],
      "source": [
        "print(answer_sql(\"List the publisher with the largest number of published games.\"))"
      ]
    },
    {
      "cell_type": "code",
      "execution_count": null,
      "id": "e4522592-4b82-440c-afa4-7379dedc19d8",
      "metadata": {
        "id": "e4522592-4b82-440c-afa4-7379dedc19d8",
        "colab": {
          "base_uri": "https://localhost:8080/"
        },
        "outputId": "6e1dae25-dc8b-4836-aa94-b7f9a891c47c"
      },
      "outputs": [
        {
          "output_type": "stream",
          "name": "stdout",
          "text": [
            "\n",
            "2009\n"
          ]
        }
      ],
      "source": [
        "print(answer_sql(\"Display the year with most games released.\"))"
      ]
    },
    {
      "cell_type": "code",
      "execution_count": null,
      "id": "95550428-4a0b-4324-bb0c-719ba0026b77",
      "metadata": {
        "id": "95550428-4a0b-4324-bb0c-719ba0026b77",
        "colab": {
          "base_uri": "https://localhost:8080/"
        },
        "outputId": "366685a7-11fa-4a53-8d10-6f7deaaf86a4"
      },
      "outputs": [
        {
          "output_type": "stream",
          "name": "stdout",
          "text": [
            "\n",
            "Answer:\n",
            "The most popular game genre on the Wii platform is Action with 215 games.\n"
          ]
        }
      ],
      "source": [
        "print(answer_sql(\"What is the most popular game genre on the Wii platform?\"))"
      ]
    },
    {
      "cell_type": "code",
      "execution_count": null,
      "id": "eb3de1f5-7e62-4370-a6eb-311485031fe1",
      "metadata": {
        "id": "eb3de1f5-7e62-4370-a6eb-311485031fe1",
        "colab": {
          "base_uri": "https://localhost:8080/"
        },
        "outputId": "e12da660-2e63-488e-f6d1-f23090eaa4b3"
      },
      "outputs": [
        {
          "output_type": "stream",
          "name": "stdout",
          "text": [
            "\n",
            "Answer:\n",
            "The most popular game genre of 2012 is Action with 112 games.\n"
          ]
        }
      ],
      "source": [
        "print(answer_sql(\"What is the most popular game genre of 2012?\"))"
      ]
    }
  ],
  "metadata": {
    "accelerator": "GPU",
    "colab": {
      "gpuType": "L4",
      "provenance": [],
      "machine_shape": "hm"
    },
    "kernelspec": {
      "display_name": "Python 3",
      "name": "python3"
    },
    "language_info": {
      "codemirror_mode": {
        "name": "ipython",
        "version": 3
      },
      "file_extension": ".py",
      "mimetype": "text/x-python",
      "name": "python",
      "nbconvert_exporter": "python",
      "pygments_lexer": "ipython3",
      "version": "3.11.7"
    },
    "widgets": {
      "application/vnd.jupyter.widget-state+json": {
        "bb85b5c506f94a9aaa52006722cc84bb": {
          "model_module": "@jupyter-widgets/controls",
          "model_name": "HBoxModel",
          "model_module_version": "1.5.0",
          "state": {
            "_dom_classes": [],
            "_model_module": "@jupyter-widgets/controls",
            "_model_module_version": "1.5.0",
            "_model_name": "HBoxModel",
            "_view_count": null,
            "_view_module": "@jupyter-widgets/controls",
            "_view_module_version": "1.5.0",
            "_view_name": "HBoxView",
            "box_style": "",
            "children": [
              "IPY_MODEL_0d03a37d61b34039b1ba33de217485d3",
              "IPY_MODEL_6a0ba03e0e69407281197873392c29d4",
              "IPY_MODEL_a2f470e849324dfca1ea088330aceb29"
            ],
            "layout": "IPY_MODEL_79466368794f40d58071acf02272a74c"
          }
        },
        "0d03a37d61b34039b1ba33de217485d3": {
          "model_module": "@jupyter-widgets/controls",
          "model_name": "HTMLModel",
          "model_module_version": "1.5.0",
          "state": {
            "_dom_classes": [],
            "_model_module": "@jupyter-widgets/controls",
            "_model_module_version": "1.5.0",
            "_model_name": "HTMLModel",
            "_view_count": null,
            "_view_module": "@jupyter-widgets/controls",
            "_view_module_version": "1.5.0",
            "_view_name": "HTMLView",
            "description": "",
            "description_tooltip": null,
            "layout": "IPY_MODEL_3e4ecdc7dadf49598ce77266ec637b1f",
            "placeholder": "​",
            "style": "IPY_MODEL_e06b3f3939c24cb6a223a93dc31b0ed3",
            "value": "config.json: 100%"
          }
        },
        "6a0ba03e0e69407281197873392c29d4": {
          "model_module": "@jupyter-widgets/controls",
          "model_name": "FloatProgressModel",
          "model_module_version": "1.5.0",
          "state": {
            "_dom_classes": [],
            "_model_module": "@jupyter-widgets/controls",
            "_model_module_version": "1.5.0",
            "_model_name": "FloatProgressModel",
            "_view_count": null,
            "_view_module": "@jupyter-widgets/controls",
            "_view_module_version": "1.5.0",
            "_view_name": "ProgressView",
            "bar_style": "success",
            "description": "",
            "description_tooltip": null,
            "layout": "IPY_MODEL_42403e30e27444349c49a8db1190fec4",
            "max": 1102,
            "min": 0,
            "orientation": "horizontal",
            "style": "IPY_MODEL_cd1eb3983bd2412b8926932e28638cb2",
            "value": 1102
          }
        },
        "a2f470e849324dfca1ea088330aceb29": {
          "model_module": "@jupyter-widgets/controls",
          "model_name": "HTMLModel",
          "model_module_version": "1.5.0",
          "state": {
            "_dom_classes": [],
            "_model_module": "@jupyter-widgets/controls",
            "_model_module_version": "1.5.0",
            "_model_name": "HTMLModel",
            "_view_count": null,
            "_view_module": "@jupyter-widgets/controls",
            "_view_module_version": "1.5.0",
            "_view_name": "HTMLView",
            "description": "",
            "description_tooltip": null,
            "layout": "IPY_MODEL_e84638a525a945ab92609811ee4deab3",
            "placeholder": "​",
            "style": "IPY_MODEL_21a75564658e4952ae3df0565475e9ed",
            "value": " 1.10k/1.10k [00:00&lt;00:00, 95.4kB/s]"
          }
        },
        "79466368794f40d58071acf02272a74c": {
          "model_module": "@jupyter-widgets/base",
          "model_name": "LayoutModel",
          "model_module_version": "1.2.0",
          "state": {
            "_model_module": "@jupyter-widgets/base",
            "_model_module_version": "1.2.0",
            "_model_name": "LayoutModel",
            "_view_count": null,
            "_view_module": "@jupyter-widgets/base",
            "_view_module_version": "1.2.0",
            "_view_name": "LayoutView",
            "align_content": null,
            "align_items": null,
            "align_self": null,
            "border": null,
            "bottom": null,
            "display": null,
            "flex": null,
            "flex_flow": null,
            "grid_area": null,
            "grid_auto_columns": null,
            "grid_auto_flow": null,
            "grid_auto_rows": null,
            "grid_column": null,
            "grid_gap": null,
            "grid_row": null,
            "grid_template_areas": null,
            "grid_template_columns": null,
            "grid_template_rows": null,
            "height": null,
            "justify_content": null,
            "justify_items": null,
            "left": null,
            "margin": null,
            "max_height": null,
            "max_width": null,
            "min_height": null,
            "min_width": null,
            "object_fit": null,
            "object_position": null,
            "order": null,
            "overflow": null,
            "overflow_x": null,
            "overflow_y": null,
            "padding": null,
            "right": null,
            "top": null,
            "visibility": null,
            "width": null
          }
        },
        "3e4ecdc7dadf49598ce77266ec637b1f": {
          "model_module": "@jupyter-widgets/base",
          "model_name": "LayoutModel",
          "model_module_version": "1.2.0",
          "state": {
            "_model_module": "@jupyter-widgets/base",
            "_model_module_version": "1.2.0",
            "_model_name": "LayoutModel",
            "_view_count": null,
            "_view_module": "@jupyter-widgets/base",
            "_view_module_version": "1.2.0",
            "_view_name": "LayoutView",
            "align_content": null,
            "align_items": null,
            "align_self": null,
            "border": null,
            "bottom": null,
            "display": null,
            "flex": null,
            "flex_flow": null,
            "grid_area": null,
            "grid_auto_columns": null,
            "grid_auto_flow": null,
            "grid_auto_rows": null,
            "grid_column": null,
            "grid_gap": null,
            "grid_row": null,
            "grid_template_areas": null,
            "grid_template_columns": null,
            "grid_template_rows": null,
            "height": null,
            "justify_content": null,
            "justify_items": null,
            "left": null,
            "margin": null,
            "max_height": null,
            "max_width": null,
            "min_height": null,
            "min_width": null,
            "object_fit": null,
            "object_position": null,
            "order": null,
            "overflow": null,
            "overflow_x": null,
            "overflow_y": null,
            "padding": null,
            "right": null,
            "top": null,
            "visibility": null,
            "width": null
          }
        },
        "e06b3f3939c24cb6a223a93dc31b0ed3": {
          "model_module": "@jupyter-widgets/controls",
          "model_name": "DescriptionStyleModel",
          "model_module_version": "1.5.0",
          "state": {
            "_model_module": "@jupyter-widgets/controls",
            "_model_module_version": "1.5.0",
            "_model_name": "DescriptionStyleModel",
            "_view_count": null,
            "_view_module": "@jupyter-widgets/base",
            "_view_module_version": "1.2.0",
            "_view_name": "StyleView",
            "description_width": ""
          }
        },
        "42403e30e27444349c49a8db1190fec4": {
          "model_module": "@jupyter-widgets/base",
          "model_name": "LayoutModel",
          "model_module_version": "1.2.0",
          "state": {
            "_model_module": "@jupyter-widgets/base",
            "_model_module_version": "1.2.0",
            "_model_name": "LayoutModel",
            "_view_count": null,
            "_view_module": "@jupyter-widgets/base",
            "_view_module_version": "1.2.0",
            "_view_name": "LayoutView",
            "align_content": null,
            "align_items": null,
            "align_self": null,
            "border": null,
            "bottom": null,
            "display": null,
            "flex": null,
            "flex_flow": null,
            "grid_area": null,
            "grid_auto_columns": null,
            "grid_auto_flow": null,
            "grid_auto_rows": null,
            "grid_column": null,
            "grid_gap": null,
            "grid_row": null,
            "grid_template_areas": null,
            "grid_template_columns": null,
            "grid_template_rows": null,
            "height": null,
            "justify_content": null,
            "justify_items": null,
            "left": null,
            "margin": null,
            "max_height": null,
            "max_width": null,
            "min_height": null,
            "min_width": null,
            "object_fit": null,
            "object_position": null,
            "order": null,
            "overflow": null,
            "overflow_x": null,
            "overflow_y": null,
            "padding": null,
            "right": null,
            "top": null,
            "visibility": null,
            "width": null
          }
        },
        "cd1eb3983bd2412b8926932e28638cb2": {
          "model_module": "@jupyter-widgets/controls",
          "model_name": "ProgressStyleModel",
          "model_module_version": "1.5.0",
          "state": {
            "_model_module": "@jupyter-widgets/controls",
            "_model_module_version": "1.5.0",
            "_model_name": "ProgressStyleModel",
            "_view_count": null,
            "_view_module": "@jupyter-widgets/base",
            "_view_module_version": "1.2.0",
            "_view_name": "StyleView",
            "bar_color": null,
            "description_width": ""
          }
        },
        "e84638a525a945ab92609811ee4deab3": {
          "model_module": "@jupyter-widgets/base",
          "model_name": "LayoutModel",
          "model_module_version": "1.2.0",
          "state": {
            "_model_module": "@jupyter-widgets/base",
            "_model_module_version": "1.2.0",
            "_model_name": "LayoutModel",
            "_view_count": null,
            "_view_module": "@jupyter-widgets/base",
            "_view_module_version": "1.2.0",
            "_view_name": "LayoutView",
            "align_content": null,
            "align_items": null,
            "align_self": null,
            "border": null,
            "bottom": null,
            "display": null,
            "flex": null,
            "flex_flow": null,
            "grid_area": null,
            "grid_auto_columns": null,
            "grid_auto_flow": null,
            "grid_auto_rows": null,
            "grid_column": null,
            "grid_gap": null,
            "grid_row": null,
            "grid_template_areas": null,
            "grid_template_columns": null,
            "grid_template_rows": null,
            "height": null,
            "justify_content": null,
            "justify_items": null,
            "left": null,
            "margin": null,
            "max_height": null,
            "max_width": null,
            "min_height": null,
            "min_width": null,
            "object_fit": null,
            "object_position": null,
            "order": null,
            "overflow": null,
            "overflow_x": null,
            "overflow_y": null,
            "padding": null,
            "right": null,
            "top": null,
            "visibility": null,
            "width": null
          }
        },
        "21a75564658e4952ae3df0565475e9ed": {
          "model_module": "@jupyter-widgets/controls",
          "model_name": "DescriptionStyleModel",
          "model_module_version": "1.5.0",
          "state": {
            "_model_module": "@jupyter-widgets/controls",
            "_model_module_version": "1.5.0",
            "_model_name": "DescriptionStyleModel",
            "_view_count": null,
            "_view_module": "@jupyter-widgets/base",
            "_view_module_version": "1.2.0",
            "_view_name": "StyleView",
            "description_width": ""
          }
        },
        "35fa5687b5d54ff39bb0b07f0a5a5de3": {
          "model_module": "@jupyter-widgets/controls",
          "model_name": "HBoxModel",
          "model_module_version": "1.5.0",
          "state": {
            "_dom_classes": [],
            "_model_module": "@jupyter-widgets/controls",
            "_model_module_version": "1.5.0",
            "_model_name": "HBoxModel",
            "_view_count": null,
            "_view_module": "@jupyter-widgets/controls",
            "_view_module_version": "1.5.0",
            "_view_name": "HBoxView",
            "box_style": "",
            "children": [
              "IPY_MODEL_5977083828b54c889e6f9f4c0b2199b2",
              "IPY_MODEL_463362f7c358427fae3150faa91e980a",
              "IPY_MODEL_9b06bb777b3a4ffc8ff11f407ad8254c"
            ],
            "layout": "IPY_MODEL_ddaebc8eda954eada828cc8ea64bb411"
          }
        },
        "5977083828b54c889e6f9f4c0b2199b2": {
          "model_module": "@jupyter-widgets/controls",
          "model_name": "HTMLModel",
          "model_module_version": "1.5.0",
          "state": {
            "_dom_classes": [],
            "_model_module": "@jupyter-widgets/controls",
            "_model_module_version": "1.5.0",
            "_model_name": "HTMLModel",
            "_view_count": null,
            "_view_module": "@jupyter-widgets/controls",
            "_view_module_version": "1.5.0",
            "_view_name": "HTMLView",
            "description": "",
            "description_tooltip": null,
            "layout": "IPY_MODEL_d0fdbef585734adb85c976ac4d9cd257",
            "placeholder": "​",
            "style": "IPY_MODEL_1515c64030ab45b9b22405b0b1258e31",
            "value": "configuration_xlm_roberta.py: 100%"
          }
        },
        "463362f7c358427fae3150faa91e980a": {
          "model_module": "@jupyter-widgets/controls",
          "model_name": "FloatProgressModel",
          "model_module_version": "1.5.0",
          "state": {
            "_dom_classes": [],
            "_model_module": "@jupyter-widgets/controls",
            "_model_module_version": "1.5.0",
            "_model_name": "FloatProgressModel",
            "_view_count": null,
            "_view_module": "@jupyter-widgets/controls",
            "_view_module_version": "1.5.0",
            "_view_name": "ProgressView",
            "bar_style": "success",
            "description": "",
            "description_tooltip": null,
            "layout": "IPY_MODEL_c9f5a27aee9f467f911a051f3a361d40",
            "max": 2728,
            "min": 0,
            "orientation": "horizontal",
            "style": "IPY_MODEL_df6fb5ba84094b52b6175b4bcd7b9f3a",
            "value": 2728
          }
        },
        "9b06bb777b3a4ffc8ff11f407ad8254c": {
          "model_module": "@jupyter-widgets/controls",
          "model_name": "HTMLModel",
          "model_module_version": "1.5.0",
          "state": {
            "_dom_classes": [],
            "_model_module": "@jupyter-widgets/controls",
            "_model_module_version": "1.5.0",
            "_model_name": "HTMLModel",
            "_view_count": null,
            "_view_module": "@jupyter-widgets/controls",
            "_view_module_version": "1.5.0",
            "_view_name": "HTMLView",
            "description": "",
            "description_tooltip": null,
            "layout": "IPY_MODEL_5240ee20f949403cb4793bc26525e837",
            "placeholder": "​",
            "style": "IPY_MODEL_4ca5829607c340389e99b5f3fda3fd98",
            "value": " 2.73k/2.73k [00:00&lt;00:00, 220kB/s]"
          }
        },
        "ddaebc8eda954eada828cc8ea64bb411": {
          "model_module": "@jupyter-widgets/base",
          "model_name": "LayoutModel",
          "model_module_version": "1.2.0",
          "state": {
            "_model_module": "@jupyter-widgets/base",
            "_model_module_version": "1.2.0",
            "_model_name": "LayoutModel",
            "_view_count": null,
            "_view_module": "@jupyter-widgets/base",
            "_view_module_version": "1.2.0",
            "_view_name": "LayoutView",
            "align_content": null,
            "align_items": null,
            "align_self": null,
            "border": null,
            "bottom": null,
            "display": null,
            "flex": null,
            "flex_flow": null,
            "grid_area": null,
            "grid_auto_columns": null,
            "grid_auto_flow": null,
            "grid_auto_rows": null,
            "grid_column": null,
            "grid_gap": null,
            "grid_row": null,
            "grid_template_areas": null,
            "grid_template_columns": null,
            "grid_template_rows": null,
            "height": null,
            "justify_content": null,
            "justify_items": null,
            "left": null,
            "margin": null,
            "max_height": null,
            "max_width": null,
            "min_height": null,
            "min_width": null,
            "object_fit": null,
            "object_position": null,
            "order": null,
            "overflow": null,
            "overflow_x": null,
            "overflow_y": null,
            "padding": null,
            "right": null,
            "top": null,
            "visibility": null,
            "width": null
          }
        },
        "d0fdbef585734adb85c976ac4d9cd257": {
          "model_module": "@jupyter-widgets/base",
          "model_name": "LayoutModel",
          "model_module_version": "1.2.0",
          "state": {
            "_model_module": "@jupyter-widgets/base",
            "_model_module_version": "1.2.0",
            "_model_name": "LayoutModel",
            "_view_count": null,
            "_view_module": "@jupyter-widgets/base",
            "_view_module_version": "1.2.0",
            "_view_name": "LayoutView",
            "align_content": null,
            "align_items": null,
            "align_self": null,
            "border": null,
            "bottom": null,
            "display": null,
            "flex": null,
            "flex_flow": null,
            "grid_area": null,
            "grid_auto_columns": null,
            "grid_auto_flow": null,
            "grid_auto_rows": null,
            "grid_column": null,
            "grid_gap": null,
            "grid_row": null,
            "grid_template_areas": null,
            "grid_template_columns": null,
            "grid_template_rows": null,
            "height": null,
            "justify_content": null,
            "justify_items": null,
            "left": null,
            "margin": null,
            "max_height": null,
            "max_width": null,
            "min_height": null,
            "min_width": null,
            "object_fit": null,
            "object_position": null,
            "order": null,
            "overflow": null,
            "overflow_x": null,
            "overflow_y": null,
            "padding": null,
            "right": null,
            "top": null,
            "visibility": null,
            "width": null
          }
        },
        "1515c64030ab45b9b22405b0b1258e31": {
          "model_module": "@jupyter-widgets/controls",
          "model_name": "DescriptionStyleModel",
          "model_module_version": "1.5.0",
          "state": {
            "_model_module": "@jupyter-widgets/controls",
            "_model_module_version": "1.5.0",
            "_model_name": "DescriptionStyleModel",
            "_view_count": null,
            "_view_module": "@jupyter-widgets/base",
            "_view_module_version": "1.2.0",
            "_view_name": "StyleView",
            "description_width": ""
          }
        },
        "c9f5a27aee9f467f911a051f3a361d40": {
          "model_module": "@jupyter-widgets/base",
          "model_name": "LayoutModel",
          "model_module_version": "1.2.0",
          "state": {
            "_model_module": "@jupyter-widgets/base",
            "_model_module_version": "1.2.0",
            "_model_name": "LayoutModel",
            "_view_count": null,
            "_view_module": "@jupyter-widgets/base",
            "_view_module_version": "1.2.0",
            "_view_name": "LayoutView",
            "align_content": null,
            "align_items": null,
            "align_self": null,
            "border": null,
            "bottom": null,
            "display": null,
            "flex": null,
            "flex_flow": null,
            "grid_area": null,
            "grid_auto_columns": null,
            "grid_auto_flow": null,
            "grid_auto_rows": null,
            "grid_column": null,
            "grid_gap": null,
            "grid_row": null,
            "grid_template_areas": null,
            "grid_template_columns": null,
            "grid_template_rows": null,
            "height": null,
            "justify_content": null,
            "justify_items": null,
            "left": null,
            "margin": null,
            "max_height": null,
            "max_width": null,
            "min_height": null,
            "min_width": null,
            "object_fit": null,
            "object_position": null,
            "order": null,
            "overflow": null,
            "overflow_x": null,
            "overflow_y": null,
            "padding": null,
            "right": null,
            "top": null,
            "visibility": null,
            "width": null
          }
        },
        "df6fb5ba84094b52b6175b4bcd7b9f3a": {
          "model_module": "@jupyter-widgets/controls",
          "model_name": "ProgressStyleModel",
          "model_module_version": "1.5.0",
          "state": {
            "_model_module": "@jupyter-widgets/controls",
            "_model_module_version": "1.5.0",
            "_model_name": "ProgressStyleModel",
            "_view_count": null,
            "_view_module": "@jupyter-widgets/base",
            "_view_module_version": "1.2.0",
            "_view_name": "StyleView",
            "bar_color": null,
            "description_width": ""
          }
        },
        "5240ee20f949403cb4793bc26525e837": {
          "model_module": "@jupyter-widgets/base",
          "model_name": "LayoutModel",
          "model_module_version": "1.2.0",
          "state": {
            "_model_module": "@jupyter-widgets/base",
            "_model_module_version": "1.2.0",
            "_model_name": "LayoutModel",
            "_view_count": null,
            "_view_module": "@jupyter-widgets/base",
            "_view_module_version": "1.2.0",
            "_view_name": "LayoutView",
            "align_content": null,
            "align_items": null,
            "align_self": null,
            "border": null,
            "bottom": null,
            "display": null,
            "flex": null,
            "flex_flow": null,
            "grid_area": null,
            "grid_auto_columns": null,
            "grid_auto_flow": null,
            "grid_auto_rows": null,
            "grid_column": null,
            "grid_gap": null,
            "grid_row": null,
            "grid_template_areas": null,
            "grid_template_columns": null,
            "grid_template_rows": null,
            "height": null,
            "justify_content": null,
            "justify_items": null,
            "left": null,
            "margin": null,
            "max_height": null,
            "max_width": null,
            "min_height": null,
            "min_width": null,
            "object_fit": null,
            "object_position": null,
            "order": null,
            "overflow": null,
            "overflow_x": null,
            "overflow_y": null,
            "padding": null,
            "right": null,
            "top": null,
            "visibility": null,
            "width": null
          }
        },
        "4ca5829607c340389e99b5f3fda3fd98": {
          "model_module": "@jupyter-widgets/controls",
          "model_name": "DescriptionStyleModel",
          "model_module_version": "1.5.0",
          "state": {
            "_model_module": "@jupyter-widgets/controls",
            "_model_module_version": "1.5.0",
            "_model_name": "DescriptionStyleModel",
            "_view_count": null,
            "_view_module": "@jupyter-widgets/base",
            "_view_module_version": "1.2.0",
            "_view_name": "StyleView",
            "description_width": ""
          }
        },
        "bd41df2225654ca49fa8ce5bc7913f05": {
          "model_module": "@jupyter-widgets/controls",
          "model_name": "HBoxModel",
          "model_module_version": "1.5.0",
          "state": {
            "_dom_classes": [],
            "_model_module": "@jupyter-widgets/controls",
            "_model_module_version": "1.5.0",
            "_model_name": "HBoxModel",
            "_view_count": null,
            "_view_module": "@jupyter-widgets/controls",
            "_view_module_version": "1.5.0",
            "_view_name": "HBoxView",
            "box_style": "",
            "children": [
              "IPY_MODEL_c6114e6e89654cbc811d9af11942bf4f",
              "IPY_MODEL_cbf3816e4a334f41a50b54773e0c23d3",
              "IPY_MODEL_ac599144756442118426be1ce47f4be7"
            ],
            "layout": "IPY_MODEL_08a9aae6e5d94f72ae2408ba70b222f9"
          }
        },
        "c6114e6e89654cbc811d9af11942bf4f": {
          "model_module": "@jupyter-widgets/controls",
          "model_name": "HTMLModel",
          "model_module_version": "1.5.0",
          "state": {
            "_dom_classes": [],
            "_model_module": "@jupyter-widgets/controls",
            "_model_module_version": "1.5.0",
            "_model_name": "HTMLModel",
            "_view_count": null,
            "_view_module": "@jupyter-widgets/controls",
            "_view_module_version": "1.5.0",
            "_view_name": "HTMLView",
            "description": "",
            "description_tooltip": null,
            "layout": "IPY_MODEL_e954c487bfa64bfe9be4b6800bd727b1",
            "placeholder": "​",
            "style": "IPY_MODEL_edd86e5d7de94c938a1fba37c92104ff",
            "value": "modeling_xlm_roberta.py: 100%"
          }
        },
        "cbf3816e4a334f41a50b54773e0c23d3": {
          "model_module": "@jupyter-widgets/controls",
          "model_name": "FloatProgressModel",
          "model_module_version": "1.5.0",
          "state": {
            "_dom_classes": [],
            "_model_module": "@jupyter-widgets/controls",
            "_model_module_version": "1.5.0",
            "_model_name": "FloatProgressModel",
            "_view_count": null,
            "_view_module": "@jupyter-widgets/controls",
            "_view_module_version": "1.5.0",
            "_view_name": "ProgressView",
            "bar_style": "success",
            "description": "",
            "description_tooltip": null,
            "layout": "IPY_MODEL_1dbf26cca35b49c6be3db012312a05b4",
            "max": 43807,
            "min": 0,
            "orientation": "horizontal",
            "style": "IPY_MODEL_b068008484e647bb9db6001a99d50c06",
            "value": 43807
          }
        },
        "ac599144756442118426be1ce47f4be7": {
          "model_module": "@jupyter-widgets/controls",
          "model_name": "HTMLModel",
          "model_module_version": "1.5.0",
          "state": {
            "_dom_classes": [],
            "_model_module": "@jupyter-widgets/controls",
            "_model_module_version": "1.5.0",
            "_model_name": "HTMLModel",
            "_view_count": null,
            "_view_module": "@jupyter-widgets/controls",
            "_view_module_version": "1.5.0",
            "_view_name": "HTMLView",
            "description": "",
            "description_tooltip": null,
            "layout": "IPY_MODEL_9e3bd143becd49e9917f2d9369f5a413",
            "placeholder": "​",
            "style": "IPY_MODEL_a046f24006374f98837e0e1d3eec579c",
            "value": " 43.8k/43.8k [00:00&lt;00:00, 3.32MB/s]"
          }
        },
        "08a9aae6e5d94f72ae2408ba70b222f9": {
          "model_module": "@jupyter-widgets/base",
          "model_name": "LayoutModel",
          "model_module_version": "1.2.0",
          "state": {
            "_model_module": "@jupyter-widgets/base",
            "_model_module_version": "1.2.0",
            "_model_name": "LayoutModel",
            "_view_count": null,
            "_view_module": "@jupyter-widgets/base",
            "_view_module_version": "1.2.0",
            "_view_name": "LayoutView",
            "align_content": null,
            "align_items": null,
            "align_self": null,
            "border": null,
            "bottom": null,
            "display": null,
            "flex": null,
            "flex_flow": null,
            "grid_area": null,
            "grid_auto_columns": null,
            "grid_auto_flow": null,
            "grid_auto_rows": null,
            "grid_column": null,
            "grid_gap": null,
            "grid_row": null,
            "grid_template_areas": null,
            "grid_template_columns": null,
            "grid_template_rows": null,
            "height": null,
            "justify_content": null,
            "justify_items": null,
            "left": null,
            "margin": null,
            "max_height": null,
            "max_width": null,
            "min_height": null,
            "min_width": null,
            "object_fit": null,
            "object_position": null,
            "order": null,
            "overflow": null,
            "overflow_x": null,
            "overflow_y": null,
            "padding": null,
            "right": null,
            "top": null,
            "visibility": null,
            "width": null
          }
        },
        "e954c487bfa64bfe9be4b6800bd727b1": {
          "model_module": "@jupyter-widgets/base",
          "model_name": "LayoutModel",
          "model_module_version": "1.2.0",
          "state": {
            "_model_module": "@jupyter-widgets/base",
            "_model_module_version": "1.2.0",
            "_model_name": "LayoutModel",
            "_view_count": null,
            "_view_module": "@jupyter-widgets/base",
            "_view_module_version": "1.2.0",
            "_view_name": "LayoutView",
            "align_content": null,
            "align_items": null,
            "align_self": null,
            "border": null,
            "bottom": null,
            "display": null,
            "flex": null,
            "flex_flow": null,
            "grid_area": null,
            "grid_auto_columns": null,
            "grid_auto_flow": null,
            "grid_auto_rows": null,
            "grid_column": null,
            "grid_gap": null,
            "grid_row": null,
            "grid_template_areas": null,
            "grid_template_columns": null,
            "grid_template_rows": null,
            "height": null,
            "justify_content": null,
            "justify_items": null,
            "left": null,
            "margin": null,
            "max_height": null,
            "max_width": null,
            "min_height": null,
            "min_width": null,
            "object_fit": null,
            "object_position": null,
            "order": null,
            "overflow": null,
            "overflow_x": null,
            "overflow_y": null,
            "padding": null,
            "right": null,
            "top": null,
            "visibility": null,
            "width": null
          }
        },
        "edd86e5d7de94c938a1fba37c92104ff": {
          "model_module": "@jupyter-widgets/controls",
          "model_name": "DescriptionStyleModel",
          "model_module_version": "1.5.0",
          "state": {
            "_model_module": "@jupyter-widgets/controls",
            "_model_module_version": "1.5.0",
            "_model_name": "DescriptionStyleModel",
            "_view_count": null,
            "_view_module": "@jupyter-widgets/base",
            "_view_module_version": "1.2.0",
            "_view_name": "StyleView",
            "description_width": ""
          }
        },
        "1dbf26cca35b49c6be3db012312a05b4": {
          "model_module": "@jupyter-widgets/base",
          "model_name": "LayoutModel",
          "model_module_version": "1.2.0",
          "state": {
            "_model_module": "@jupyter-widgets/base",
            "_model_module_version": "1.2.0",
            "_model_name": "LayoutModel",
            "_view_count": null,
            "_view_module": "@jupyter-widgets/base",
            "_view_module_version": "1.2.0",
            "_view_name": "LayoutView",
            "align_content": null,
            "align_items": null,
            "align_self": null,
            "border": null,
            "bottom": null,
            "display": null,
            "flex": null,
            "flex_flow": null,
            "grid_area": null,
            "grid_auto_columns": null,
            "grid_auto_flow": null,
            "grid_auto_rows": null,
            "grid_column": null,
            "grid_gap": null,
            "grid_row": null,
            "grid_template_areas": null,
            "grid_template_columns": null,
            "grid_template_rows": null,
            "height": null,
            "justify_content": null,
            "justify_items": null,
            "left": null,
            "margin": null,
            "max_height": null,
            "max_width": null,
            "min_height": null,
            "min_width": null,
            "object_fit": null,
            "object_position": null,
            "order": null,
            "overflow": null,
            "overflow_x": null,
            "overflow_y": null,
            "padding": null,
            "right": null,
            "top": null,
            "visibility": null,
            "width": null
          }
        },
        "b068008484e647bb9db6001a99d50c06": {
          "model_module": "@jupyter-widgets/controls",
          "model_name": "ProgressStyleModel",
          "model_module_version": "1.5.0",
          "state": {
            "_model_module": "@jupyter-widgets/controls",
            "_model_module_version": "1.5.0",
            "_model_name": "ProgressStyleModel",
            "_view_count": null,
            "_view_module": "@jupyter-widgets/base",
            "_view_module_version": "1.2.0",
            "_view_name": "StyleView",
            "bar_color": null,
            "description_width": ""
          }
        },
        "9e3bd143becd49e9917f2d9369f5a413": {
          "model_module": "@jupyter-widgets/base",
          "model_name": "LayoutModel",
          "model_module_version": "1.2.0",
          "state": {
            "_model_module": "@jupyter-widgets/base",
            "_model_module_version": "1.2.0",
            "_model_name": "LayoutModel",
            "_view_count": null,
            "_view_module": "@jupyter-widgets/base",
            "_view_module_version": "1.2.0",
            "_view_name": "LayoutView",
            "align_content": null,
            "align_items": null,
            "align_self": null,
            "border": null,
            "bottom": null,
            "display": null,
            "flex": null,
            "flex_flow": null,
            "grid_area": null,
            "grid_auto_columns": null,
            "grid_auto_flow": null,
            "grid_auto_rows": null,
            "grid_column": null,
            "grid_gap": null,
            "grid_row": null,
            "grid_template_areas": null,
            "grid_template_columns": null,
            "grid_template_rows": null,
            "height": null,
            "justify_content": null,
            "justify_items": null,
            "left": null,
            "margin": null,
            "max_height": null,
            "max_width": null,
            "min_height": null,
            "min_width": null,
            "object_fit": null,
            "object_position": null,
            "order": null,
            "overflow": null,
            "overflow_x": null,
            "overflow_y": null,
            "padding": null,
            "right": null,
            "top": null,
            "visibility": null,
            "width": null
          }
        },
        "a046f24006374f98837e0e1d3eec579c": {
          "model_module": "@jupyter-widgets/controls",
          "model_name": "DescriptionStyleModel",
          "model_module_version": "1.5.0",
          "state": {
            "_model_module": "@jupyter-widgets/controls",
            "_model_module_version": "1.5.0",
            "_model_name": "DescriptionStyleModel",
            "_view_count": null,
            "_view_module": "@jupyter-widgets/base",
            "_view_module_version": "1.2.0",
            "_view_name": "StyleView",
            "description_width": ""
          }
        },
        "6376d6d93593420b8e3d674bd36cd887": {
          "model_module": "@jupyter-widgets/controls",
          "model_name": "HBoxModel",
          "model_module_version": "1.5.0",
          "state": {
            "_dom_classes": [],
            "_model_module": "@jupyter-widgets/controls",
            "_model_module_version": "1.5.0",
            "_model_name": "HBoxModel",
            "_view_count": null,
            "_view_module": "@jupyter-widgets/controls",
            "_view_module_version": "1.5.0",
            "_view_name": "HBoxView",
            "box_style": "",
            "children": [
              "IPY_MODEL_6263530127444cb49888eec30d7eaa8c",
              "IPY_MODEL_3c2219a1a70642e8afb3b287e883a526",
              "IPY_MODEL_ebcac6658dcd42eda46462c3895936f9"
            ],
            "layout": "IPY_MODEL_cfc5df7032134a6ba3a6926ab59ef43e"
          }
        },
        "6263530127444cb49888eec30d7eaa8c": {
          "model_module": "@jupyter-widgets/controls",
          "model_name": "HTMLModel",
          "model_module_version": "1.5.0",
          "state": {
            "_dom_classes": [],
            "_model_module": "@jupyter-widgets/controls",
            "_model_module_version": "1.5.0",
            "_model_name": "HTMLModel",
            "_view_count": null,
            "_view_module": "@jupyter-widgets/controls",
            "_view_module_version": "1.5.0",
            "_view_name": "HTMLView",
            "description": "",
            "description_tooltip": null,
            "layout": "IPY_MODEL_bc5a306fec044a2c9cc9918e71f7a339",
            "placeholder": "​",
            "style": "IPY_MODEL_2d7cea30fbbe4730bb76bf0e22ab39bc",
            "value": "block.py: 100%"
          }
        },
        "3c2219a1a70642e8afb3b287e883a526": {
          "model_module": "@jupyter-widgets/controls",
          "model_name": "FloatProgressModel",
          "model_module_version": "1.5.0",
          "state": {
            "_dom_classes": [],
            "_model_module": "@jupyter-widgets/controls",
            "_model_module_version": "1.5.0",
            "_model_name": "FloatProgressModel",
            "_view_count": null,
            "_view_module": "@jupyter-widgets/controls",
            "_view_module_version": "1.5.0",
            "_view_name": "ProgressView",
            "bar_style": "success",
            "description": "",
            "description_tooltip": null,
            "layout": "IPY_MODEL_25fba188226440818d481742d41a6e36",
            "max": 19714,
            "min": 0,
            "orientation": "horizontal",
            "style": "IPY_MODEL_b92dcd7395a2477db21cb739d03b3011",
            "value": 19714
          }
        },
        "ebcac6658dcd42eda46462c3895936f9": {
          "model_module": "@jupyter-widgets/controls",
          "model_name": "HTMLModel",
          "model_module_version": "1.5.0",
          "state": {
            "_dom_classes": [],
            "_model_module": "@jupyter-widgets/controls",
            "_model_module_version": "1.5.0",
            "_model_name": "HTMLModel",
            "_view_count": null,
            "_view_module": "@jupyter-widgets/controls",
            "_view_module_version": "1.5.0",
            "_view_name": "HTMLView",
            "description": "",
            "description_tooltip": null,
            "layout": "IPY_MODEL_4743f52f1a28435ab76faf40e76f9580",
            "placeholder": "​",
            "style": "IPY_MODEL_273c071df304466da49c55c120fd594c",
            "value": " 19.7k/19.7k [00:00&lt;00:00, 1.64MB/s]"
          }
        },
        "cfc5df7032134a6ba3a6926ab59ef43e": {
          "model_module": "@jupyter-widgets/base",
          "model_name": "LayoutModel",
          "model_module_version": "1.2.0",
          "state": {
            "_model_module": "@jupyter-widgets/base",
            "_model_module_version": "1.2.0",
            "_model_name": "LayoutModel",
            "_view_count": null,
            "_view_module": "@jupyter-widgets/base",
            "_view_module_version": "1.2.0",
            "_view_name": "LayoutView",
            "align_content": null,
            "align_items": null,
            "align_self": null,
            "border": null,
            "bottom": null,
            "display": null,
            "flex": null,
            "flex_flow": null,
            "grid_area": null,
            "grid_auto_columns": null,
            "grid_auto_flow": null,
            "grid_auto_rows": null,
            "grid_column": null,
            "grid_gap": null,
            "grid_row": null,
            "grid_template_areas": null,
            "grid_template_columns": null,
            "grid_template_rows": null,
            "height": null,
            "justify_content": null,
            "justify_items": null,
            "left": null,
            "margin": null,
            "max_height": null,
            "max_width": null,
            "min_height": null,
            "min_width": null,
            "object_fit": null,
            "object_position": null,
            "order": null,
            "overflow": null,
            "overflow_x": null,
            "overflow_y": null,
            "padding": null,
            "right": null,
            "top": null,
            "visibility": null,
            "width": null
          }
        },
        "bc5a306fec044a2c9cc9918e71f7a339": {
          "model_module": "@jupyter-widgets/base",
          "model_name": "LayoutModel",
          "model_module_version": "1.2.0",
          "state": {
            "_model_module": "@jupyter-widgets/base",
            "_model_module_version": "1.2.0",
            "_model_name": "LayoutModel",
            "_view_count": null,
            "_view_module": "@jupyter-widgets/base",
            "_view_module_version": "1.2.0",
            "_view_name": "LayoutView",
            "align_content": null,
            "align_items": null,
            "align_self": null,
            "border": null,
            "bottom": null,
            "display": null,
            "flex": null,
            "flex_flow": null,
            "grid_area": null,
            "grid_auto_columns": null,
            "grid_auto_flow": null,
            "grid_auto_rows": null,
            "grid_column": null,
            "grid_gap": null,
            "grid_row": null,
            "grid_template_areas": null,
            "grid_template_columns": null,
            "grid_template_rows": null,
            "height": null,
            "justify_content": null,
            "justify_items": null,
            "left": null,
            "margin": null,
            "max_height": null,
            "max_width": null,
            "min_height": null,
            "min_width": null,
            "object_fit": null,
            "object_position": null,
            "order": null,
            "overflow": null,
            "overflow_x": null,
            "overflow_y": null,
            "padding": null,
            "right": null,
            "top": null,
            "visibility": null,
            "width": null
          }
        },
        "2d7cea30fbbe4730bb76bf0e22ab39bc": {
          "model_module": "@jupyter-widgets/controls",
          "model_name": "DescriptionStyleModel",
          "model_module_version": "1.5.0",
          "state": {
            "_model_module": "@jupyter-widgets/controls",
            "_model_module_version": "1.5.0",
            "_model_name": "DescriptionStyleModel",
            "_view_count": null,
            "_view_module": "@jupyter-widgets/base",
            "_view_module_version": "1.2.0",
            "_view_name": "StyleView",
            "description_width": ""
          }
        },
        "25fba188226440818d481742d41a6e36": {
          "model_module": "@jupyter-widgets/base",
          "model_name": "LayoutModel",
          "model_module_version": "1.2.0",
          "state": {
            "_model_module": "@jupyter-widgets/base",
            "_model_module_version": "1.2.0",
            "_model_name": "LayoutModel",
            "_view_count": null,
            "_view_module": "@jupyter-widgets/base",
            "_view_module_version": "1.2.0",
            "_view_name": "LayoutView",
            "align_content": null,
            "align_items": null,
            "align_self": null,
            "border": null,
            "bottom": null,
            "display": null,
            "flex": null,
            "flex_flow": null,
            "grid_area": null,
            "grid_auto_columns": null,
            "grid_auto_flow": null,
            "grid_auto_rows": null,
            "grid_column": null,
            "grid_gap": null,
            "grid_row": null,
            "grid_template_areas": null,
            "grid_template_columns": null,
            "grid_template_rows": null,
            "height": null,
            "justify_content": null,
            "justify_items": null,
            "left": null,
            "margin": null,
            "max_height": null,
            "max_width": null,
            "min_height": null,
            "min_width": null,
            "object_fit": null,
            "object_position": null,
            "order": null,
            "overflow": null,
            "overflow_x": null,
            "overflow_y": null,
            "padding": null,
            "right": null,
            "top": null,
            "visibility": null,
            "width": null
          }
        },
        "b92dcd7395a2477db21cb739d03b3011": {
          "model_module": "@jupyter-widgets/controls",
          "model_name": "ProgressStyleModel",
          "model_module_version": "1.5.0",
          "state": {
            "_model_module": "@jupyter-widgets/controls",
            "_model_module_version": "1.5.0",
            "_model_name": "ProgressStyleModel",
            "_view_count": null,
            "_view_module": "@jupyter-widgets/base",
            "_view_module_version": "1.2.0",
            "_view_name": "StyleView",
            "bar_color": null,
            "description_width": ""
          }
        },
        "4743f52f1a28435ab76faf40e76f9580": {
          "model_module": "@jupyter-widgets/base",
          "model_name": "LayoutModel",
          "model_module_version": "1.2.0",
          "state": {
            "_model_module": "@jupyter-widgets/base",
            "_model_module_version": "1.2.0",
            "_model_name": "LayoutModel",
            "_view_count": null,
            "_view_module": "@jupyter-widgets/base",
            "_view_module_version": "1.2.0",
            "_view_name": "LayoutView",
            "align_content": null,
            "align_items": null,
            "align_self": null,
            "border": null,
            "bottom": null,
            "display": null,
            "flex": null,
            "flex_flow": null,
            "grid_area": null,
            "grid_auto_columns": null,
            "grid_auto_flow": null,
            "grid_auto_rows": null,
            "grid_column": null,
            "grid_gap": null,
            "grid_row": null,
            "grid_template_areas": null,
            "grid_template_columns": null,
            "grid_template_rows": null,
            "height": null,
            "justify_content": null,
            "justify_items": null,
            "left": null,
            "margin": null,
            "max_height": null,
            "max_width": null,
            "min_height": null,
            "min_width": null,
            "object_fit": null,
            "object_position": null,
            "order": null,
            "overflow": null,
            "overflow_x": null,
            "overflow_y": null,
            "padding": null,
            "right": null,
            "top": null,
            "visibility": null,
            "width": null
          }
        },
        "273c071df304466da49c55c120fd594c": {
          "model_module": "@jupyter-widgets/controls",
          "model_name": "DescriptionStyleModel",
          "model_module_version": "1.5.0",
          "state": {
            "_model_module": "@jupyter-widgets/controls",
            "_model_module_version": "1.5.0",
            "_model_name": "DescriptionStyleModel",
            "_view_count": null,
            "_view_module": "@jupyter-widgets/base",
            "_view_module_version": "1.2.0",
            "_view_name": "StyleView",
            "description_width": ""
          }
        },
        "9bd1b1b6dc7a4ff183c166314357da2b": {
          "model_module": "@jupyter-widgets/controls",
          "model_name": "HBoxModel",
          "model_module_version": "1.5.0",
          "state": {
            "_dom_classes": [],
            "_model_module": "@jupyter-widgets/controls",
            "_model_module_version": "1.5.0",
            "_model_name": "HBoxModel",
            "_view_count": null,
            "_view_module": "@jupyter-widgets/controls",
            "_view_module_version": "1.5.0",
            "_view_name": "HBoxView",
            "box_style": "",
            "children": [
              "IPY_MODEL_354f9ae1cb5f48e5bc63f1b7351f8fc8",
              "IPY_MODEL_f27a6b5c847f46129b0c7a4529984d33",
              "IPY_MODEL_11a1a5eaa65f46238e70243a7ef00331"
            ],
            "layout": "IPY_MODEL_56f40e8b75a4425f9e6b73b19286cbaa"
          }
        },
        "354f9ae1cb5f48e5bc63f1b7351f8fc8": {
          "model_module": "@jupyter-widgets/controls",
          "model_name": "HTMLModel",
          "model_module_version": "1.5.0",
          "state": {
            "_dom_classes": [],
            "_model_module": "@jupyter-widgets/controls",
            "_model_module_version": "1.5.0",
            "_model_name": "HTMLModel",
            "_view_count": null,
            "_view_module": "@jupyter-widgets/controls",
            "_view_module_version": "1.5.0",
            "_view_name": "HTMLView",
            "description": "",
            "description_tooltip": null,
            "layout": "IPY_MODEL_228c31ce3a9442cb90cfc17e798beb7c",
            "placeholder": "​",
            "style": "IPY_MODEL_7eb86baae18d485084658514afe81f21",
            "value": "mha.py: 100%"
          }
        },
        "f27a6b5c847f46129b0c7a4529984d33": {
          "model_module": "@jupyter-widgets/controls",
          "model_name": "FloatProgressModel",
          "model_module_version": "1.5.0",
          "state": {
            "_dom_classes": [],
            "_model_module": "@jupyter-widgets/controls",
            "_model_module_version": "1.5.0",
            "_model_name": "FloatProgressModel",
            "_view_count": null,
            "_view_module": "@jupyter-widgets/controls",
            "_view_module_version": "1.5.0",
            "_view_name": "ProgressView",
            "bar_style": "success",
            "description": "",
            "description_tooltip": null,
            "layout": "IPY_MODEL_35e2131fb7da44059600140834834958",
            "max": 28011,
            "min": 0,
            "orientation": "horizontal",
            "style": "IPY_MODEL_3681a3a897674b8495a778f879caa0fd",
            "value": 28011
          }
        },
        "11a1a5eaa65f46238e70243a7ef00331": {
          "model_module": "@jupyter-widgets/controls",
          "model_name": "HTMLModel",
          "model_module_version": "1.5.0",
          "state": {
            "_dom_classes": [],
            "_model_module": "@jupyter-widgets/controls",
            "_model_module_version": "1.5.0",
            "_model_name": "HTMLModel",
            "_view_count": null,
            "_view_module": "@jupyter-widgets/controls",
            "_view_module_version": "1.5.0",
            "_view_name": "HTMLView",
            "description": "",
            "description_tooltip": null,
            "layout": "IPY_MODEL_62652913687547cc8eec81f560a8d312",
            "placeholder": "​",
            "style": "IPY_MODEL_e6371435f0384864aeb598d8ecbff27f",
            "value": " 28.0k/28.0k [00:00&lt;00:00, 2.19MB/s]"
          }
        },
        "56f40e8b75a4425f9e6b73b19286cbaa": {
          "model_module": "@jupyter-widgets/base",
          "model_name": "LayoutModel",
          "model_module_version": "1.2.0",
          "state": {
            "_model_module": "@jupyter-widgets/base",
            "_model_module_version": "1.2.0",
            "_model_name": "LayoutModel",
            "_view_count": null,
            "_view_module": "@jupyter-widgets/base",
            "_view_module_version": "1.2.0",
            "_view_name": "LayoutView",
            "align_content": null,
            "align_items": null,
            "align_self": null,
            "border": null,
            "bottom": null,
            "display": null,
            "flex": null,
            "flex_flow": null,
            "grid_area": null,
            "grid_auto_columns": null,
            "grid_auto_flow": null,
            "grid_auto_rows": null,
            "grid_column": null,
            "grid_gap": null,
            "grid_row": null,
            "grid_template_areas": null,
            "grid_template_columns": null,
            "grid_template_rows": null,
            "height": null,
            "justify_content": null,
            "justify_items": null,
            "left": null,
            "margin": null,
            "max_height": null,
            "max_width": null,
            "min_height": null,
            "min_width": null,
            "object_fit": null,
            "object_position": null,
            "order": null,
            "overflow": null,
            "overflow_x": null,
            "overflow_y": null,
            "padding": null,
            "right": null,
            "top": null,
            "visibility": null,
            "width": null
          }
        },
        "228c31ce3a9442cb90cfc17e798beb7c": {
          "model_module": "@jupyter-widgets/base",
          "model_name": "LayoutModel",
          "model_module_version": "1.2.0",
          "state": {
            "_model_module": "@jupyter-widgets/base",
            "_model_module_version": "1.2.0",
            "_model_name": "LayoutModel",
            "_view_count": null,
            "_view_module": "@jupyter-widgets/base",
            "_view_module_version": "1.2.0",
            "_view_name": "LayoutView",
            "align_content": null,
            "align_items": null,
            "align_self": null,
            "border": null,
            "bottom": null,
            "display": null,
            "flex": null,
            "flex_flow": null,
            "grid_area": null,
            "grid_auto_columns": null,
            "grid_auto_flow": null,
            "grid_auto_rows": null,
            "grid_column": null,
            "grid_gap": null,
            "grid_row": null,
            "grid_template_areas": null,
            "grid_template_columns": null,
            "grid_template_rows": null,
            "height": null,
            "justify_content": null,
            "justify_items": null,
            "left": null,
            "margin": null,
            "max_height": null,
            "max_width": null,
            "min_height": null,
            "min_width": null,
            "object_fit": null,
            "object_position": null,
            "order": null,
            "overflow": null,
            "overflow_x": null,
            "overflow_y": null,
            "padding": null,
            "right": null,
            "top": null,
            "visibility": null,
            "width": null
          }
        },
        "7eb86baae18d485084658514afe81f21": {
          "model_module": "@jupyter-widgets/controls",
          "model_name": "DescriptionStyleModel",
          "model_module_version": "1.5.0",
          "state": {
            "_model_module": "@jupyter-widgets/controls",
            "_model_module_version": "1.5.0",
            "_model_name": "DescriptionStyleModel",
            "_view_count": null,
            "_view_module": "@jupyter-widgets/base",
            "_view_module_version": "1.2.0",
            "_view_name": "StyleView",
            "description_width": ""
          }
        },
        "35e2131fb7da44059600140834834958": {
          "model_module": "@jupyter-widgets/base",
          "model_name": "LayoutModel",
          "model_module_version": "1.2.0",
          "state": {
            "_model_module": "@jupyter-widgets/base",
            "_model_module_version": "1.2.0",
            "_model_name": "LayoutModel",
            "_view_count": null,
            "_view_module": "@jupyter-widgets/base",
            "_view_module_version": "1.2.0",
            "_view_name": "LayoutView",
            "align_content": null,
            "align_items": null,
            "align_self": null,
            "border": null,
            "bottom": null,
            "display": null,
            "flex": null,
            "flex_flow": null,
            "grid_area": null,
            "grid_auto_columns": null,
            "grid_auto_flow": null,
            "grid_auto_rows": null,
            "grid_column": null,
            "grid_gap": null,
            "grid_row": null,
            "grid_template_areas": null,
            "grid_template_columns": null,
            "grid_template_rows": null,
            "height": null,
            "justify_content": null,
            "justify_items": null,
            "left": null,
            "margin": null,
            "max_height": null,
            "max_width": null,
            "min_height": null,
            "min_width": null,
            "object_fit": null,
            "object_position": null,
            "order": null,
            "overflow": null,
            "overflow_x": null,
            "overflow_y": null,
            "padding": null,
            "right": null,
            "top": null,
            "visibility": null,
            "width": null
          }
        },
        "3681a3a897674b8495a778f879caa0fd": {
          "model_module": "@jupyter-widgets/controls",
          "model_name": "ProgressStyleModel",
          "model_module_version": "1.5.0",
          "state": {
            "_model_module": "@jupyter-widgets/controls",
            "_model_module_version": "1.5.0",
            "_model_name": "ProgressStyleModel",
            "_view_count": null,
            "_view_module": "@jupyter-widgets/base",
            "_view_module_version": "1.2.0",
            "_view_name": "StyleView",
            "bar_color": null,
            "description_width": ""
          }
        },
        "62652913687547cc8eec81f560a8d312": {
          "model_module": "@jupyter-widgets/base",
          "model_name": "LayoutModel",
          "model_module_version": "1.2.0",
          "state": {
            "_model_module": "@jupyter-widgets/base",
            "_model_module_version": "1.2.0",
            "_model_name": "LayoutModel",
            "_view_count": null,
            "_view_module": "@jupyter-widgets/base",
            "_view_module_version": "1.2.0",
            "_view_name": "LayoutView",
            "align_content": null,
            "align_items": null,
            "align_self": null,
            "border": null,
            "bottom": null,
            "display": null,
            "flex": null,
            "flex_flow": null,
            "grid_area": null,
            "grid_auto_columns": null,
            "grid_auto_flow": null,
            "grid_auto_rows": null,
            "grid_column": null,
            "grid_gap": null,
            "grid_row": null,
            "grid_template_areas": null,
            "grid_template_columns": null,
            "grid_template_rows": null,
            "height": null,
            "justify_content": null,
            "justify_items": null,
            "left": null,
            "margin": null,
            "max_height": null,
            "max_width": null,
            "min_height": null,
            "min_width": null,
            "object_fit": null,
            "object_position": null,
            "order": null,
            "overflow": null,
            "overflow_x": null,
            "overflow_y": null,
            "padding": null,
            "right": null,
            "top": null,
            "visibility": null,
            "width": null
          }
        },
        "e6371435f0384864aeb598d8ecbff27f": {
          "model_module": "@jupyter-widgets/controls",
          "model_name": "DescriptionStyleModel",
          "model_module_version": "1.5.0",
          "state": {
            "_model_module": "@jupyter-widgets/controls",
            "_model_module_version": "1.5.0",
            "_model_name": "DescriptionStyleModel",
            "_view_count": null,
            "_view_module": "@jupyter-widgets/base",
            "_view_module_version": "1.2.0",
            "_view_name": "StyleView",
            "description_width": ""
          }
        },
        "96abd8b5a1034ec0a856962e7586a817": {
          "model_module": "@jupyter-widgets/controls",
          "model_name": "HBoxModel",
          "model_module_version": "1.5.0",
          "state": {
            "_dom_classes": [],
            "_model_module": "@jupyter-widgets/controls",
            "_model_module_version": "1.5.0",
            "_model_name": "HBoxModel",
            "_view_count": null,
            "_view_module": "@jupyter-widgets/controls",
            "_view_module_version": "1.5.0",
            "_view_name": "HBoxView",
            "box_style": "",
            "children": [
              "IPY_MODEL_b7907345cedf4dd296a8b70c56997e9d",
              "IPY_MODEL_484d4838827f464d9352b61882806b0a",
              "IPY_MODEL_f30e3fddec8145cab492116fc9914282"
            ],
            "layout": "IPY_MODEL_97b0b4c8ff254848bc40a4597235961f"
          }
        },
        "b7907345cedf4dd296a8b70c56997e9d": {
          "model_module": "@jupyter-widgets/controls",
          "model_name": "HTMLModel",
          "model_module_version": "1.5.0",
          "state": {
            "_dom_classes": [],
            "_model_module": "@jupyter-widgets/controls",
            "_model_module_version": "1.5.0",
            "_model_name": "HTMLModel",
            "_view_count": null,
            "_view_module": "@jupyter-widgets/controls",
            "_view_module_version": "1.5.0",
            "_view_name": "HTMLView",
            "description": "",
            "description_tooltip": null,
            "layout": "IPY_MODEL_d839035499d44524820f0d4b551c69aa",
            "placeholder": "​",
            "style": "IPY_MODEL_c171a1d61fd343a08bd079f82dcec5c7",
            "value": "mlp.py: 100%"
          }
        },
        "484d4838827f464d9352b61882806b0a": {
          "model_module": "@jupyter-widgets/controls",
          "model_name": "FloatProgressModel",
          "model_module_version": "1.5.0",
          "state": {
            "_dom_classes": [],
            "_model_module": "@jupyter-widgets/controls",
            "_model_module_version": "1.5.0",
            "_model_name": "FloatProgressModel",
            "_view_count": null,
            "_view_module": "@jupyter-widgets/controls",
            "_view_module_version": "1.5.0",
            "_view_name": "ProgressView",
            "bar_style": "success",
            "description": "",
            "description_tooltip": null,
            "layout": "IPY_MODEL_bb36dc106a454763b1ee1c4fc03e5cfe",
            "max": 6207,
            "min": 0,
            "orientation": "horizontal",
            "style": "IPY_MODEL_e4cc6409d49d4442b5bc6ce3c508fe7d",
            "value": 6207
          }
        },
        "f30e3fddec8145cab492116fc9914282": {
          "model_module": "@jupyter-widgets/controls",
          "model_name": "HTMLModel",
          "model_module_version": "1.5.0",
          "state": {
            "_dom_classes": [],
            "_model_module": "@jupyter-widgets/controls",
            "_model_module_version": "1.5.0",
            "_model_name": "HTMLModel",
            "_view_count": null,
            "_view_module": "@jupyter-widgets/controls",
            "_view_module_version": "1.5.0",
            "_view_name": "HTMLView",
            "description": "",
            "description_tooltip": null,
            "layout": "IPY_MODEL_3166d148ae184cb3a6688ee525fefe35",
            "placeholder": "​",
            "style": "IPY_MODEL_176d29662c7344c3b146fe82379715f2",
            "value": " 6.21k/6.21k [00:00&lt;00:00, 517kB/s]"
          }
        },
        "97b0b4c8ff254848bc40a4597235961f": {
          "model_module": "@jupyter-widgets/base",
          "model_name": "LayoutModel",
          "model_module_version": "1.2.0",
          "state": {
            "_model_module": "@jupyter-widgets/base",
            "_model_module_version": "1.2.0",
            "_model_name": "LayoutModel",
            "_view_count": null,
            "_view_module": "@jupyter-widgets/base",
            "_view_module_version": "1.2.0",
            "_view_name": "LayoutView",
            "align_content": null,
            "align_items": null,
            "align_self": null,
            "border": null,
            "bottom": null,
            "display": null,
            "flex": null,
            "flex_flow": null,
            "grid_area": null,
            "grid_auto_columns": null,
            "grid_auto_flow": null,
            "grid_auto_rows": null,
            "grid_column": null,
            "grid_gap": null,
            "grid_row": null,
            "grid_template_areas": null,
            "grid_template_columns": null,
            "grid_template_rows": null,
            "height": null,
            "justify_content": null,
            "justify_items": null,
            "left": null,
            "margin": null,
            "max_height": null,
            "max_width": null,
            "min_height": null,
            "min_width": null,
            "object_fit": null,
            "object_position": null,
            "order": null,
            "overflow": null,
            "overflow_x": null,
            "overflow_y": null,
            "padding": null,
            "right": null,
            "top": null,
            "visibility": null,
            "width": null
          }
        },
        "d839035499d44524820f0d4b551c69aa": {
          "model_module": "@jupyter-widgets/base",
          "model_name": "LayoutModel",
          "model_module_version": "1.2.0",
          "state": {
            "_model_module": "@jupyter-widgets/base",
            "_model_module_version": "1.2.0",
            "_model_name": "LayoutModel",
            "_view_count": null,
            "_view_module": "@jupyter-widgets/base",
            "_view_module_version": "1.2.0",
            "_view_name": "LayoutView",
            "align_content": null,
            "align_items": null,
            "align_self": null,
            "border": null,
            "bottom": null,
            "display": null,
            "flex": null,
            "flex_flow": null,
            "grid_area": null,
            "grid_auto_columns": null,
            "grid_auto_flow": null,
            "grid_auto_rows": null,
            "grid_column": null,
            "grid_gap": null,
            "grid_row": null,
            "grid_template_areas": null,
            "grid_template_columns": null,
            "grid_template_rows": null,
            "height": null,
            "justify_content": null,
            "justify_items": null,
            "left": null,
            "margin": null,
            "max_height": null,
            "max_width": null,
            "min_height": null,
            "min_width": null,
            "object_fit": null,
            "object_position": null,
            "order": null,
            "overflow": null,
            "overflow_x": null,
            "overflow_y": null,
            "padding": null,
            "right": null,
            "top": null,
            "visibility": null,
            "width": null
          }
        },
        "c171a1d61fd343a08bd079f82dcec5c7": {
          "model_module": "@jupyter-widgets/controls",
          "model_name": "DescriptionStyleModel",
          "model_module_version": "1.5.0",
          "state": {
            "_model_module": "@jupyter-widgets/controls",
            "_model_module_version": "1.5.0",
            "_model_name": "DescriptionStyleModel",
            "_view_count": null,
            "_view_module": "@jupyter-widgets/base",
            "_view_module_version": "1.2.0",
            "_view_name": "StyleView",
            "description_width": ""
          }
        },
        "bb36dc106a454763b1ee1c4fc03e5cfe": {
          "model_module": "@jupyter-widgets/base",
          "model_name": "LayoutModel",
          "model_module_version": "1.2.0",
          "state": {
            "_model_module": "@jupyter-widgets/base",
            "_model_module_version": "1.2.0",
            "_model_name": "LayoutModel",
            "_view_count": null,
            "_view_module": "@jupyter-widgets/base",
            "_view_module_version": "1.2.0",
            "_view_name": "LayoutView",
            "align_content": null,
            "align_items": null,
            "align_self": null,
            "border": null,
            "bottom": null,
            "display": null,
            "flex": null,
            "flex_flow": null,
            "grid_area": null,
            "grid_auto_columns": null,
            "grid_auto_flow": null,
            "grid_auto_rows": null,
            "grid_column": null,
            "grid_gap": null,
            "grid_row": null,
            "grid_template_areas": null,
            "grid_template_columns": null,
            "grid_template_rows": null,
            "height": null,
            "justify_content": null,
            "justify_items": null,
            "left": null,
            "margin": null,
            "max_height": null,
            "max_width": null,
            "min_height": null,
            "min_width": null,
            "object_fit": null,
            "object_position": null,
            "order": null,
            "overflow": null,
            "overflow_x": null,
            "overflow_y": null,
            "padding": null,
            "right": null,
            "top": null,
            "visibility": null,
            "width": null
          }
        },
        "e4cc6409d49d4442b5bc6ce3c508fe7d": {
          "model_module": "@jupyter-widgets/controls",
          "model_name": "ProgressStyleModel",
          "model_module_version": "1.5.0",
          "state": {
            "_model_module": "@jupyter-widgets/controls",
            "_model_module_version": "1.5.0",
            "_model_name": "ProgressStyleModel",
            "_view_count": null,
            "_view_module": "@jupyter-widgets/base",
            "_view_module_version": "1.2.0",
            "_view_name": "StyleView",
            "bar_color": null,
            "description_width": ""
          }
        },
        "3166d148ae184cb3a6688ee525fefe35": {
          "model_module": "@jupyter-widgets/base",
          "model_name": "LayoutModel",
          "model_module_version": "1.2.0",
          "state": {
            "_model_module": "@jupyter-widgets/base",
            "_model_module_version": "1.2.0",
            "_model_name": "LayoutModel",
            "_view_count": null,
            "_view_module": "@jupyter-widgets/base",
            "_view_module_version": "1.2.0",
            "_view_name": "LayoutView",
            "align_content": null,
            "align_items": null,
            "align_self": null,
            "border": null,
            "bottom": null,
            "display": null,
            "flex": null,
            "flex_flow": null,
            "grid_area": null,
            "grid_auto_columns": null,
            "grid_auto_flow": null,
            "grid_auto_rows": null,
            "grid_column": null,
            "grid_gap": null,
            "grid_row": null,
            "grid_template_areas": null,
            "grid_template_columns": null,
            "grid_template_rows": null,
            "height": null,
            "justify_content": null,
            "justify_items": null,
            "left": null,
            "margin": null,
            "max_height": null,
            "max_width": null,
            "min_height": null,
            "min_width": null,
            "object_fit": null,
            "object_position": null,
            "order": null,
            "overflow": null,
            "overflow_x": null,
            "overflow_y": null,
            "padding": null,
            "right": null,
            "top": null,
            "visibility": null,
            "width": null
          }
        },
        "176d29662c7344c3b146fe82379715f2": {
          "model_module": "@jupyter-widgets/controls",
          "model_name": "DescriptionStyleModel",
          "model_module_version": "1.5.0",
          "state": {
            "_model_module": "@jupyter-widgets/controls",
            "_model_module_version": "1.5.0",
            "_model_name": "DescriptionStyleModel",
            "_view_count": null,
            "_view_module": "@jupyter-widgets/base",
            "_view_module_version": "1.2.0",
            "_view_name": "StyleView",
            "description_width": ""
          }
        },
        "c750225b7c974b1895e2912f911acfea": {
          "model_module": "@jupyter-widgets/controls",
          "model_name": "HBoxModel",
          "model_module_version": "1.5.0",
          "state": {
            "_dom_classes": [],
            "_model_module": "@jupyter-widgets/controls",
            "_model_module_version": "1.5.0",
            "_model_name": "HBoxModel",
            "_view_count": null,
            "_view_module": "@jupyter-widgets/controls",
            "_view_module_version": "1.5.0",
            "_view_name": "HBoxView",
            "box_style": "",
            "children": [
              "IPY_MODEL_03eb33a881344ca09fdc6425cb2f36b3",
              "IPY_MODEL_cff9d76d77ef496aab879d938a83edb2",
              "IPY_MODEL_7904b1dd7bf84fe695e5007008d2bbed"
            ],
            "layout": "IPY_MODEL_99794aab3ac348fb9f677da6d198f6a3"
          }
        },
        "03eb33a881344ca09fdc6425cb2f36b3": {
          "model_module": "@jupyter-widgets/controls",
          "model_name": "HTMLModel",
          "model_module_version": "1.5.0",
          "state": {
            "_dom_classes": [],
            "_model_module": "@jupyter-widgets/controls",
            "_model_module_version": "1.5.0",
            "_model_name": "HTMLModel",
            "_view_count": null,
            "_view_module": "@jupyter-widgets/controls",
            "_view_module_version": "1.5.0",
            "_view_name": "HTMLView",
            "description": "",
            "description_tooltip": null,
            "layout": "IPY_MODEL_700d3208b103499eb224fc4ee6c3c279",
            "placeholder": "​",
            "style": "IPY_MODEL_835b05ef15034afa9bd8f3016e09323d",
            "value": "xlm_padding.py: 100%"
          }
        },
        "cff9d76d77ef496aab879d938a83edb2": {
          "model_module": "@jupyter-widgets/controls",
          "model_name": "FloatProgressModel",
          "model_module_version": "1.5.0",
          "state": {
            "_dom_classes": [],
            "_model_module": "@jupyter-widgets/controls",
            "_model_module_version": "1.5.0",
            "_model_name": "FloatProgressModel",
            "_view_count": null,
            "_view_module": "@jupyter-widgets/controls",
            "_view_module_version": "1.5.0",
            "_view_name": "ProgressView",
            "bar_style": "success",
            "description": "",
            "description_tooltip": null,
            "layout": "IPY_MODEL_53752fbd25a64559b8be762e64102629",
            "max": 9821,
            "min": 0,
            "orientation": "horizontal",
            "style": "IPY_MODEL_7782d0b67a6b415b8b3c78fe705a389c",
            "value": 9821
          }
        },
        "7904b1dd7bf84fe695e5007008d2bbed": {
          "model_module": "@jupyter-widgets/controls",
          "model_name": "HTMLModel",
          "model_module_version": "1.5.0",
          "state": {
            "_dom_classes": [],
            "_model_module": "@jupyter-widgets/controls",
            "_model_module_version": "1.5.0",
            "_model_name": "HTMLModel",
            "_view_count": null,
            "_view_module": "@jupyter-widgets/controls",
            "_view_module_version": "1.5.0",
            "_view_name": "HTMLView",
            "description": "",
            "description_tooltip": null,
            "layout": "IPY_MODEL_f4fea7d504eb4a3c8438b790fce88814",
            "placeholder": "​",
            "style": "IPY_MODEL_12f2c0943df240f8be315177ea85209b",
            "value": " 9.82k/9.82k [00:00&lt;00:00, 832kB/s]"
          }
        },
        "99794aab3ac348fb9f677da6d198f6a3": {
          "model_module": "@jupyter-widgets/base",
          "model_name": "LayoutModel",
          "model_module_version": "1.2.0",
          "state": {
            "_model_module": "@jupyter-widgets/base",
            "_model_module_version": "1.2.0",
            "_model_name": "LayoutModel",
            "_view_count": null,
            "_view_module": "@jupyter-widgets/base",
            "_view_module_version": "1.2.0",
            "_view_name": "LayoutView",
            "align_content": null,
            "align_items": null,
            "align_self": null,
            "border": null,
            "bottom": null,
            "display": null,
            "flex": null,
            "flex_flow": null,
            "grid_area": null,
            "grid_auto_columns": null,
            "grid_auto_flow": null,
            "grid_auto_rows": null,
            "grid_column": null,
            "grid_gap": null,
            "grid_row": null,
            "grid_template_areas": null,
            "grid_template_columns": null,
            "grid_template_rows": null,
            "height": null,
            "justify_content": null,
            "justify_items": null,
            "left": null,
            "margin": null,
            "max_height": null,
            "max_width": null,
            "min_height": null,
            "min_width": null,
            "object_fit": null,
            "object_position": null,
            "order": null,
            "overflow": null,
            "overflow_x": null,
            "overflow_y": null,
            "padding": null,
            "right": null,
            "top": null,
            "visibility": null,
            "width": null
          }
        },
        "700d3208b103499eb224fc4ee6c3c279": {
          "model_module": "@jupyter-widgets/base",
          "model_name": "LayoutModel",
          "model_module_version": "1.2.0",
          "state": {
            "_model_module": "@jupyter-widgets/base",
            "_model_module_version": "1.2.0",
            "_model_name": "LayoutModel",
            "_view_count": null,
            "_view_module": "@jupyter-widgets/base",
            "_view_module_version": "1.2.0",
            "_view_name": "LayoutView",
            "align_content": null,
            "align_items": null,
            "align_self": null,
            "border": null,
            "bottom": null,
            "display": null,
            "flex": null,
            "flex_flow": null,
            "grid_area": null,
            "grid_auto_columns": null,
            "grid_auto_flow": null,
            "grid_auto_rows": null,
            "grid_column": null,
            "grid_gap": null,
            "grid_row": null,
            "grid_template_areas": null,
            "grid_template_columns": null,
            "grid_template_rows": null,
            "height": null,
            "justify_content": null,
            "justify_items": null,
            "left": null,
            "margin": null,
            "max_height": null,
            "max_width": null,
            "min_height": null,
            "min_width": null,
            "object_fit": null,
            "object_position": null,
            "order": null,
            "overflow": null,
            "overflow_x": null,
            "overflow_y": null,
            "padding": null,
            "right": null,
            "top": null,
            "visibility": null,
            "width": null
          }
        },
        "835b05ef15034afa9bd8f3016e09323d": {
          "model_module": "@jupyter-widgets/controls",
          "model_name": "DescriptionStyleModel",
          "model_module_version": "1.5.0",
          "state": {
            "_model_module": "@jupyter-widgets/controls",
            "_model_module_version": "1.5.0",
            "_model_name": "DescriptionStyleModel",
            "_view_count": null,
            "_view_module": "@jupyter-widgets/base",
            "_view_module_version": "1.2.0",
            "_view_name": "StyleView",
            "description_width": ""
          }
        },
        "53752fbd25a64559b8be762e64102629": {
          "model_module": "@jupyter-widgets/base",
          "model_name": "LayoutModel",
          "model_module_version": "1.2.0",
          "state": {
            "_model_module": "@jupyter-widgets/base",
            "_model_module_version": "1.2.0",
            "_model_name": "LayoutModel",
            "_view_count": null,
            "_view_module": "@jupyter-widgets/base",
            "_view_module_version": "1.2.0",
            "_view_name": "LayoutView",
            "align_content": null,
            "align_items": null,
            "align_self": null,
            "border": null,
            "bottom": null,
            "display": null,
            "flex": null,
            "flex_flow": null,
            "grid_area": null,
            "grid_auto_columns": null,
            "grid_auto_flow": null,
            "grid_auto_rows": null,
            "grid_column": null,
            "grid_gap": null,
            "grid_row": null,
            "grid_template_areas": null,
            "grid_template_columns": null,
            "grid_template_rows": null,
            "height": null,
            "justify_content": null,
            "justify_items": null,
            "left": null,
            "margin": null,
            "max_height": null,
            "max_width": null,
            "min_height": null,
            "min_width": null,
            "object_fit": null,
            "object_position": null,
            "order": null,
            "overflow": null,
            "overflow_x": null,
            "overflow_y": null,
            "padding": null,
            "right": null,
            "top": null,
            "visibility": null,
            "width": null
          }
        },
        "7782d0b67a6b415b8b3c78fe705a389c": {
          "model_module": "@jupyter-widgets/controls",
          "model_name": "ProgressStyleModel",
          "model_module_version": "1.5.0",
          "state": {
            "_model_module": "@jupyter-widgets/controls",
            "_model_module_version": "1.5.0",
            "_model_name": "ProgressStyleModel",
            "_view_count": null,
            "_view_module": "@jupyter-widgets/base",
            "_view_module_version": "1.2.0",
            "_view_name": "StyleView",
            "bar_color": null,
            "description_width": ""
          }
        },
        "f4fea7d504eb4a3c8438b790fce88814": {
          "model_module": "@jupyter-widgets/base",
          "model_name": "LayoutModel",
          "model_module_version": "1.2.0",
          "state": {
            "_model_module": "@jupyter-widgets/base",
            "_model_module_version": "1.2.0",
            "_model_name": "LayoutModel",
            "_view_count": null,
            "_view_module": "@jupyter-widgets/base",
            "_view_module_version": "1.2.0",
            "_view_name": "LayoutView",
            "align_content": null,
            "align_items": null,
            "align_self": null,
            "border": null,
            "bottom": null,
            "display": null,
            "flex": null,
            "flex_flow": null,
            "grid_area": null,
            "grid_auto_columns": null,
            "grid_auto_flow": null,
            "grid_auto_rows": null,
            "grid_column": null,
            "grid_gap": null,
            "grid_row": null,
            "grid_template_areas": null,
            "grid_template_columns": null,
            "grid_template_rows": null,
            "height": null,
            "justify_content": null,
            "justify_items": null,
            "left": null,
            "margin": null,
            "max_height": null,
            "max_width": null,
            "min_height": null,
            "min_width": null,
            "object_fit": null,
            "object_position": null,
            "order": null,
            "overflow": null,
            "overflow_x": null,
            "overflow_y": null,
            "padding": null,
            "right": null,
            "top": null,
            "visibility": null,
            "width": null
          }
        },
        "12f2c0943df240f8be315177ea85209b": {
          "model_module": "@jupyter-widgets/controls",
          "model_name": "DescriptionStyleModel",
          "model_module_version": "1.5.0",
          "state": {
            "_model_module": "@jupyter-widgets/controls",
            "_model_module_version": "1.5.0",
            "_model_name": "DescriptionStyleModel",
            "_view_count": null,
            "_view_module": "@jupyter-widgets/base",
            "_view_module_version": "1.2.0",
            "_view_name": "StyleView",
            "description_width": ""
          }
        },
        "02aa25fb9b7c4050b0228572e33915ba": {
          "model_module": "@jupyter-widgets/controls",
          "model_name": "HBoxModel",
          "model_module_version": "1.5.0",
          "state": {
            "_dom_classes": [],
            "_model_module": "@jupyter-widgets/controls",
            "_model_module_version": "1.5.0",
            "_model_name": "HBoxModel",
            "_view_count": null,
            "_view_module": "@jupyter-widgets/controls",
            "_view_module_version": "1.5.0",
            "_view_name": "HBoxView",
            "box_style": "",
            "children": [
              "IPY_MODEL_747684fe0cd741339fa959809cf6b717",
              "IPY_MODEL_121cc955fab344508806250bfc64336c",
              "IPY_MODEL_3acc3bbff8c04377a05bb11748d3eb28"
            ],
            "layout": "IPY_MODEL_c5da9eccd55e4ea29bfa043518e66a62"
          }
        },
        "747684fe0cd741339fa959809cf6b717": {
          "model_module": "@jupyter-widgets/controls",
          "model_name": "HTMLModel",
          "model_module_version": "1.5.0",
          "state": {
            "_dom_classes": [],
            "_model_module": "@jupyter-widgets/controls",
            "_model_module_version": "1.5.0",
            "_model_name": "HTMLModel",
            "_view_count": null,
            "_view_module": "@jupyter-widgets/controls",
            "_view_module_version": "1.5.0",
            "_view_name": "HTMLView",
            "description": "",
            "description_tooltip": null,
            "layout": "IPY_MODEL_c79dfa55750540cfa3a94110a90dbe51",
            "placeholder": "​",
            "style": "IPY_MODEL_9b2b90ae4873478da2f1549e77ed8342",
            "value": "embedding.py: 100%"
          }
        },
        "121cc955fab344508806250bfc64336c": {
          "model_module": "@jupyter-widgets/controls",
          "model_name": "FloatProgressModel",
          "model_module_version": "1.5.0",
          "state": {
            "_dom_classes": [],
            "_model_module": "@jupyter-widgets/controls",
            "_model_module_version": "1.5.0",
            "_model_name": "FloatProgressModel",
            "_view_count": null,
            "_view_module": "@jupyter-widgets/controls",
            "_view_module_version": "1.5.0",
            "_view_name": "ProgressView",
            "bar_style": "success",
            "description": "",
            "description_tooltip": null,
            "layout": "IPY_MODEL_30aa51b867094538b8bb979c0b6cb90c",
            "max": 2557,
            "min": 0,
            "orientation": "horizontal",
            "style": "IPY_MODEL_2c25a992271745fc94e64345912adcc0",
            "value": 2557
          }
        },
        "3acc3bbff8c04377a05bb11748d3eb28": {
          "model_module": "@jupyter-widgets/controls",
          "model_name": "HTMLModel",
          "model_module_version": "1.5.0",
          "state": {
            "_dom_classes": [],
            "_model_module": "@jupyter-widgets/controls",
            "_model_module_version": "1.5.0",
            "_model_name": "HTMLModel",
            "_view_count": null,
            "_view_module": "@jupyter-widgets/controls",
            "_view_module_version": "1.5.0",
            "_view_name": "HTMLView",
            "description": "",
            "description_tooltip": null,
            "layout": "IPY_MODEL_331c1cbd590d46c79046f60b2624bb51",
            "placeholder": "​",
            "style": "IPY_MODEL_0f7174f21f26489ca18a1d76b3b36507",
            "value": " 2.56k/2.56k [00:00&lt;00:00, 215kB/s]"
          }
        },
        "c5da9eccd55e4ea29bfa043518e66a62": {
          "model_module": "@jupyter-widgets/base",
          "model_name": "LayoutModel",
          "model_module_version": "1.2.0",
          "state": {
            "_model_module": "@jupyter-widgets/base",
            "_model_module_version": "1.2.0",
            "_model_name": "LayoutModel",
            "_view_count": null,
            "_view_module": "@jupyter-widgets/base",
            "_view_module_version": "1.2.0",
            "_view_name": "LayoutView",
            "align_content": null,
            "align_items": null,
            "align_self": null,
            "border": null,
            "bottom": null,
            "display": null,
            "flex": null,
            "flex_flow": null,
            "grid_area": null,
            "grid_auto_columns": null,
            "grid_auto_flow": null,
            "grid_auto_rows": null,
            "grid_column": null,
            "grid_gap": null,
            "grid_row": null,
            "grid_template_areas": null,
            "grid_template_columns": null,
            "grid_template_rows": null,
            "height": null,
            "justify_content": null,
            "justify_items": null,
            "left": null,
            "margin": null,
            "max_height": null,
            "max_width": null,
            "min_height": null,
            "min_width": null,
            "object_fit": null,
            "object_position": null,
            "order": null,
            "overflow": null,
            "overflow_x": null,
            "overflow_y": null,
            "padding": null,
            "right": null,
            "top": null,
            "visibility": null,
            "width": null
          }
        },
        "c79dfa55750540cfa3a94110a90dbe51": {
          "model_module": "@jupyter-widgets/base",
          "model_name": "LayoutModel",
          "model_module_version": "1.2.0",
          "state": {
            "_model_module": "@jupyter-widgets/base",
            "_model_module_version": "1.2.0",
            "_model_name": "LayoutModel",
            "_view_count": null,
            "_view_module": "@jupyter-widgets/base",
            "_view_module_version": "1.2.0",
            "_view_name": "LayoutView",
            "align_content": null,
            "align_items": null,
            "align_self": null,
            "border": null,
            "bottom": null,
            "display": null,
            "flex": null,
            "flex_flow": null,
            "grid_area": null,
            "grid_auto_columns": null,
            "grid_auto_flow": null,
            "grid_auto_rows": null,
            "grid_column": null,
            "grid_gap": null,
            "grid_row": null,
            "grid_template_areas": null,
            "grid_template_columns": null,
            "grid_template_rows": null,
            "height": null,
            "justify_content": null,
            "justify_items": null,
            "left": null,
            "margin": null,
            "max_height": null,
            "max_width": null,
            "min_height": null,
            "min_width": null,
            "object_fit": null,
            "object_position": null,
            "order": null,
            "overflow": null,
            "overflow_x": null,
            "overflow_y": null,
            "padding": null,
            "right": null,
            "top": null,
            "visibility": null,
            "width": null
          }
        },
        "9b2b90ae4873478da2f1549e77ed8342": {
          "model_module": "@jupyter-widgets/controls",
          "model_name": "DescriptionStyleModel",
          "model_module_version": "1.5.0",
          "state": {
            "_model_module": "@jupyter-widgets/controls",
            "_model_module_version": "1.5.0",
            "_model_name": "DescriptionStyleModel",
            "_view_count": null,
            "_view_module": "@jupyter-widgets/base",
            "_view_module_version": "1.2.0",
            "_view_name": "StyleView",
            "description_width": ""
          }
        },
        "30aa51b867094538b8bb979c0b6cb90c": {
          "model_module": "@jupyter-widgets/base",
          "model_name": "LayoutModel",
          "model_module_version": "1.2.0",
          "state": {
            "_model_module": "@jupyter-widgets/base",
            "_model_module_version": "1.2.0",
            "_model_name": "LayoutModel",
            "_view_count": null,
            "_view_module": "@jupyter-widgets/base",
            "_view_module_version": "1.2.0",
            "_view_name": "LayoutView",
            "align_content": null,
            "align_items": null,
            "align_self": null,
            "border": null,
            "bottom": null,
            "display": null,
            "flex": null,
            "flex_flow": null,
            "grid_area": null,
            "grid_auto_columns": null,
            "grid_auto_flow": null,
            "grid_auto_rows": null,
            "grid_column": null,
            "grid_gap": null,
            "grid_row": null,
            "grid_template_areas": null,
            "grid_template_columns": null,
            "grid_template_rows": null,
            "height": null,
            "justify_content": null,
            "justify_items": null,
            "left": null,
            "margin": null,
            "max_height": null,
            "max_width": null,
            "min_height": null,
            "min_width": null,
            "object_fit": null,
            "object_position": null,
            "order": null,
            "overflow": null,
            "overflow_x": null,
            "overflow_y": null,
            "padding": null,
            "right": null,
            "top": null,
            "visibility": null,
            "width": null
          }
        },
        "2c25a992271745fc94e64345912adcc0": {
          "model_module": "@jupyter-widgets/controls",
          "model_name": "ProgressStyleModel",
          "model_module_version": "1.5.0",
          "state": {
            "_model_module": "@jupyter-widgets/controls",
            "_model_module_version": "1.5.0",
            "_model_name": "ProgressStyleModel",
            "_view_count": null,
            "_view_module": "@jupyter-widgets/base",
            "_view_module_version": "1.2.0",
            "_view_name": "StyleView",
            "bar_color": null,
            "description_width": ""
          }
        },
        "331c1cbd590d46c79046f60b2624bb51": {
          "model_module": "@jupyter-widgets/base",
          "model_name": "LayoutModel",
          "model_module_version": "1.2.0",
          "state": {
            "_model_module": "@jupyter-widgets/base",
            "_model_module_version": "1.2.0",
            "_model_name": "LayoutModel",
            "_view_count": null,
            "_view_module": "@jupyter-widgets/base",
            "_view_module_version": "1.2.0",
            "_view_name": "LayoutView",
            "align_content": null,
            "align_items": null,
            "align_self": null,
            "border": null,
            "bottom": null,
            "display": null,
            "flex": null,
            "flex_flow": null,
            "grid_area": null,
            "grid_auto_columns": null,
            "grid_auto_flow": null,
            "grid_auto_rows": null,
            "grid_column": null,
            "grid_gap": null,
            "grid_row": null,
            "grid_template_areas": null,
            "grid_template_columns": null,
            "grid_template_rows": null,
            "height": null,
            "justify_content": null,
            "justify_items": null,
            "left": null,
            "margin": null,
            "max_height": null,
            "max_width": null,
            "min_height": null,
            "min_width": null,
            "object_fit": null,
            "object_position": null,
            "order": null,
            "overflow": null,
            "overflow_x": null,
            "overflow_y": null,
            "padding": null,
            "right": null,
            "top": null,
            "visibility": null,
            "width": null
          }
        },
        "0f7174f21f26489ca18a1d76b3b36507": {
          "model_module": "@jupyter-widgets/controls",
          "model_name": "DescriptionStyleModel",
          "model_module_version": "1.5.0",
          "state": {
            "_model_module": "@jupyter-widgets/controls",
            "_model_module_version": "1.5.0",
            "_model_name": "DescriptionStyleModel",
            "_view_count": null,
            "_view_module": "@jupyter-widgets/base",
            "_view_module_version": "1.2.0",
            "_view_name": "StyleView",
            "description_width": ""
          }
        },
        "a0f3302343bb47c0862e1872b77ee803": {
          "model_module": "@jupyter-widgets/controls",
          "model_name": "HBoxModel",
          "model_module_version": "1.5.0",
          "state": {
            "_dom_classes": [],
            "_model_module": "@jupyter-widgets/controls",
            "_model_module_version": "1.5.0",
            "_model_name": "HBoxModel",
            "_view_count": null,
            "_view_module": "@jupyter-widgets/controls",
            "_view_module_version": "1.5.0",
            "_view_name": "HBoxView",
            "box_style": "",
            "children": [
              "IPY_MODEL_10fba10d8a284fa4b65f91249cb90b7f",
              "IPY_MODEL_5e10c7040db64cac8e6fc1f8cade203f",
              "IPY_MODEL_cde1cc064fce480d9ecaad3a77e63b64"
            ],
            "layout": "IPY_MODEL_94d87e7efe7b44a488e1a6b042a741d8"
          }
        },
        "10fba10d8a284fa4b65f91249cb90b7f": {
          "model_module": "@jupyter-widgets/controls",
          "model_name": "HTMLModel",
          "model_module_version": "1.5.0",
          "state": {
            "_dom_classes": [],
            "_model_module": "@jupyter-widgets/controls",
            "_model_module_version": "1.5.0",
            "_model_name": "HTMLModel",
            "_view_count": null,
            "_view_module": "@jupyter-widgets/controls",
            "_view_module_version": "1.5.0",
            "_view_name": "HTMLView",
            "description": "",
            "description_tooltip": null,
            "layout": "IPY_MODEL_17c62ae915a241a69812e77fdcf7060b",
            "placeholder": "​",
            "style": "IPY_MODEL_92318891eb664273ad5e3d1ce1b9c797",
            "value": "model.safetensors: 100%"
          }
        },
        "5e10c7040db64cac8e6fc1f8cade203f": {
          "model_module": "@jupyter-widgets/controls",
          "model_name": "FloatProgressModel",
          "model_module_version": "1.5.0",
          "state": {
            "_dom_classes": [],
            "_model_module": "@jupyter-widgets/controls",
            "_model_module_version": "1.5.0",
            "_model_name": "FloatProgressModel",
            "_view_count": null,
            "_view_module": "@jupyter-widgets/controls",
            "_view_module_version": "1.5.0",
            "_view_name": "ProgressView",
            "bar_style": "success",
            "description": "",
            "description_tooltip": null,
            "layout": "IPY_MODEL_30ba0e1c19514204a3bcf3a308f96030",
            "max": 556892306,
            "min": 0,
            "orientation": "horizontal",
            "style": "IPY_MODEL_ab4c5be4a90440a48aeab4760acac64c",
            "value": 556892306
          }
        },
        "cde1cc064fce480d9ecaad3a77e63b64": {
          "model_module": "@jupyter-widgets/controls",
          "model_name": "HTMLModel",
          "model_module_version": "1.5.0",
          "state": {
            "_dom_classes": [],
            "_model_module": "@jupyter-widgets/controls",
            "_model_module_version": "1.5.0",
            "_model_name": "HTMLModel",
            "_view_count": null,
            "_view_module": "@jupyter-widgets/controls",
            "_view_module_version": "1.5.0",
            "_view_name": "HTMLView",
            "description": "",
            "description_tooltip": null,
            "layout": "IPY_MODEL_7cf8094bf7504f488a1a67f6c792897e",
            "placeholder": "​",
            "style": "IPY_MODEL_57cf38b494314566b96ed0c640ce6014",
            "value": " 557M/557M [00:18&lt;00:00, 30.5MB/s]"
          }
        },
        "94d87e7efe7b44a488e1a6b042a741d8": {
          "model_module": "@jupyter-widgets/base",
          "model_name": "LayoutModel",
          "model_module_version": "1.2.0",
          "state": {
            "_model_module": "@jupyter-widgets/base",
            "_model_module_version": "1.2.0",
            "_model_name": "LayoutModel",
            "_view_count": null,
            "_view_module": "@jupyter-widgets/base",
            "_view_module_version": "1.2.0",
            "_view_name": "LayoutView",
            "align_content": null,
            "align_items": null,
            "align_self": null,
            "border": null,
            "bottom": null,
            "display": null,
            "flex": null,
            "flex_flow": null,
            "grid_area": null,
            "grid_auto_columns": null,
            "grid_auto_flow": null,
            "grid_auto_rows": null,
            "grid_column": null,
            "grid_gap": null,
            "grid_row": null,
            "grid_template_areas": null,
            "grid_template_columns": null,
            "grid_template_rows": null,
            "height": null,
            "justify_content": null,
            "justify_items": null,
            "left": null,
            "margin": null,
            "max_height": null,
            "max_width": null,
            "min_height": null,
            "min_width": null,
            "object_fit": null,
            "object_position": null,
            "order": null,
            "overflow": null,
            "overflow_x": null,
            "overflow_y": null,
            "padding": null,
            "right": null,
            "top": null,
            "visibility": null,
            "width": null
          }
        },
        "17c62ae915a241a69812e77fdcf7060b": {
          "model_module": "@jupyter-widgets/base",
          "model_name": "LayoutModel",
          "model_module_version": "1.2.0",
          "state": {
            "_model_module": "@jupyter-widgets/base",
            "_model_module_version": "1.2.0",
            "_model_name": "LayoutModel",
            "_view_count": null,
            "_view_module": "@jupyter-widgets/base",
            "_view_module_version": "1.2.0",
            "_view_name": "LayoutView",
            "align_content": null,
            "align_items": null,
            "align_self": null,
            "border": null,
            "bottom": null,
            "display": null,
            "flex": null,
            "flex_flow": null,
            "grid_area": null,
            "grid_auto_columns": null,
            "grid_auto_flow": null,
            "grid_auto_rows": null,
            "grid_column": null,
            "grid_gap": null,
            "grid_row": null,
            "grid_template_areas": null,
            "grid_template_columns": null,
            "grid_template_rows": null,
            "height": null,
            "justify_content": null,
            "justify_items": null,
            "left": null,
            "margin": null,
            "max_height": null,
            "max_width": null,
            "min_height": null,
            "min_width": null,
            "object_fit": null,
            "object_position": null,
            "order": null,
            "overflow": null,
            "overflow_x": null,
            "overflow_y": null,
            "padding": null,
            "right": null,
            "top": null,
            "visibility": null,
            "width": null
          }
        },
        "92318891eb664273ad5e3d1ce1b9c797": {
          "model_module": "@jupyter-widgets/controls",
          "model_name": "DescriptionStyleModel",
          "model_module_version": "1.5.0",
          "state": {
            "_model_module": "@jupyter-widgets/controls",
            "_model_module_version": "1.5.0",
            "_model_name": "DescriptionStyleModel",
            "_view_count": null,
            "_view_module": "@jupyter-widgets/base",
            "_view_module_version": "1.2.0",
            "_view_name": "StyleView",
            "description_width": ""
          }
        },
        "30ba0e1c19514204a3bcf3a308f96030": {
          "model_module": "@jupyter-widgets/base",
          "model_name": "LayoutModel",
          "model_module_version": "1.2.0",
          "state": {
            "_model_module": "@jupyter-widgets/base",
            "_model_module_version": "1.2.0",
            "_model_name": "LayoutModel",
            "_view_count": null,
            "_view_module": "@jupyter-widgets/base",
            "_view_module_version": "1.2.0",
            "_view_name": "LayoutView",
            "align_content": null,
            "align_items": null,
            "align_self": null,
            "border": null,
            "bottom": null,
            "display": null,
            "flex": null,
            "flex_flow": null,
            "grid_area": null,
            "grid_auto_columns": null,
            "grid_auto_flow": null,
            "grid_auto_rows": null,
            "grid_column": null,
            "grid_gap": null,
            "grid_row": null,
            "grid_template_areas": null,
            "grid_template_columns": null,
            "grid_template_rows": null,
            "height": null,
            "justify_content": null,
            "justify_items": null,
            "left": null,
            "margin": null,
            "max_height": null,
            "max_width": null,
            "min_height": null,
            "min_width": null,
            "object_fit": null,
            "object_position": null,
            "order": null,
            "overflow": null,
            "overflow_x": null,
            "overflow_y": null,
            "padding": null,
            "right": null,
            "top": null,
            "visibility": null,
            "width": null
          }
        },
        "ab4c5be4a90440a48aeab4760acac64c": {
          "model_module": "@jupyter-widgets/controls",
          "model_name": "ProgressStyleModel",
          "model_module_version": "1.5.0",
          "state": {
            "_model_module": "@jupyter-widgets/controls",
            "_model_module_version": "1.5.0",
            "_model_name": "ProgressStyleModel",
            "_view_count": null,
            "_view_module": "@jupyter-widgets/base",
            "_view_module_version": "1.2.0",
            "_view_name": "StyleView",
            "bar_color": null,
            "description_width": ""
          }
        },
        "7cf8094bf7504f488a1a67f6c792897e": {
          "model_module": "@jupyter-widgets/base",
          "model_name": "LayoutModel",
          "model_module_version": "1.2.0",
          "state": {
            "_model_module": "@jupyter-widgets/base",
            "_model_module_version": "1.2.0",
            "_model_name": "LayoutModel",
            "_view_count": null,
            "_view_module": "@jupyter-widgets/base",
            "_view_module_version": "1.2.0",
            "_view_name": "LayoutView",
            "align_content": null,
            "align_items": null,
            "align_self": null,
            "border": null,
            "bottom": null,
            "display": null,
            "flex": null,
            "flex_flow": null,
            "grid_area": null,
            "grid_auto_columns": null,
            "grid_auto_flow": null,
            "grid_auto_rows": null,
            "grid_column": null,
            "grid_gap": null,
            "grid_row": null,
            "grid_template_areas": null,
            "grid_template_columns": null,
            "grid_template_rows": null,
            "height": null,
            "justify_content": null,
            "justify_items": null,
            "left": null,
            "margin": null,
            "max_height": null,
            "max_width": null,
            "min_height": null,
            "min_width": null,
            "object_fit": null,
            "object_position": null,
            "order": null,
            "overflow": null,
            "overflow_x": null,
            "overflow_y": null,
            "padding": null,
            "right": null,
            "top": null,
            "visibility": null,
            "width": null
          }
        },
        "57cf38b494314566b96ed0c640ce6014": {
          "model_module": "@jupyter-widgets/controls",
          "model_name": "DescriptionStyleModel",
          "model_module_version": "1.5.0",
          "state": {
            "_model_module": "@jupyter-widgets/controls",
            "_model_module_version": "1.5.0",
            "_model_name": "DescriptionStyleModel",
            "_view_count": null,
            "_view_module": "@jupyter-widgets/base",
            "_view_module_version": "1.2.0",
            "_view_name": "StyleView",
            "description_width": ""
          }
        },
        "c6cf39afca154ca4bb3a56ac68a8bb5d": {
          "model_module": "@jupyter-widgets/controls",
          "model_name": "HBoxModel",
          "model_module_version": "1.5.0",
          "state": {
            "_dom_classes": [],
            "_model_module": "@jupyter-widgets/controls",
            "_model_module_version": "1.5.0",
            "_model_name": "HBoxModel",
            "_view_count": null,
            "_view_module": "@jupyter-widgets/controls",
            "_view_module_version": "1.5.0",
            "_view_name": "HBoxView",
            "box_style": "",
            "children": [
              "IPY_MODEL_9c1c0947af85487ca8ce3f6b38691c21",
              "IPY_MODEL_ba5079c22be14310998f9fa11a802a81",
              "IPY_MODEL_39e4765e988741c1bdb6595528fa3a65"
            ],
            "layout": "IPY_MODEL_cc497325a80f4622a6004900f82bb2cf"
          }
        },
        "9c1c0947af85487ca8ce3f6b38691c21": {
          "model_module": "@jupyter-widgets/controls",
          "model_name": "HTMLModel",
          "model_module_version": "1.5.0",
          "state": {
            "_dom_classes": [],
            "_model_module": "@jupyter-widgets/controls",
            "_model_module_version": "1.5.0",
            "_model_name": "HTMLModel",
            "_view_count": null,
            "_view_module": "@jupyter-widgets/controls",
            "_view_module_version": "1.5.0",
            "_view_name": "HTMLView",
            "description": "",
            "description_tooltip": null,
            "layout": "IPY_MODEL_a5158aa56e0b48a0b73293d9eb10d799",
            "placeholder": "​",
            "style": "IPY_MODEL_f7307f902b624dd3a73b5fd97c5d51a7",
            "value": "tokenizer_config.json: 100%"
          }
        },
        "ba5079c22be14310998f9fa11a802a81": {
          "model_module": "@jupyter-widgets/controls",
          "model_name": "FloatProgressModel",
          "model_module_version": "1.5.0",
          "state": {
            "_dom_classes": [],
            "_model_module": "@jupyter-widgets/controls",
            "_model_module_version": "1.5.0",
            "_model_name": "FloatProgressModel",
            "_view_count": null,
            "_view_module": "@jupyter-widgets/controls",
            "_view_module_version": "1.5.0",
            "_view_name": "ProgressView",
            "bar_style": "success",
            "description": "",
            "description_tooltip": null,
            "layout": "IPY_MODEL_27f311c2717d40c7a667c84908e9844b",
            "max": 1148,
            "min": 0,
            "orientation": "horizontal",
            "style": "IPY_MODEL_9fb23f293921412fa541b87d9422b321",
            "value": 1148
          }
        },
        "39e4765e988741c1bdb6595528fa3a65": {
          "model_module": "@jupyter-widgets/controls",
          "model_name": "HTMLModel",
          "model_module_version": "1.5.0",
          "state": {
            "_dom_classes": [],
            "_model_module": "@jupyter-widgets/controls",
            "_model_module_version": "1.5.0",
            "_model_name": "HTMLModel",
            "_view_count": null,
            "_view_module": "@jupyter-widgets/controls",
            "_view_module_version": "1.5.0",
            "_view_name": "HTMLView",
            "description": "",
            "description_tooltip": null,
            "layout": "IPY_MODEL_f64f6fe2008e4267a497706cc3fe7c4a",
            "placeholder": "​",
            "style": "IPY_MODEL_dabf2137894148688eca2ffbdb32967f",
            "value": " 1.15k/1.15k [00:00&lt;00:00, 92.8kB/s]"
          }
        },
        "cc497325a80f4622a6004900f82bb2cf": {
          "model_module": "@jupyter-widgets/base",
          "model_name": "LayoutModel",
          "model_module_version": "1.2.0",
          "state": {
            "_model_module": "@jupyter-widgets/base",
            "_model_module_version": "1.2.0",
            "_model_name": "LayoutModel",
            "_view_count": null,
            "_view_module": "@jupyter-widgets/base",
            "_view_module_version": "1.2.0",
            "_view_name": "LayoutView",
            "align_content": null,
            "align_items": null,
            "align_self": null,
            "border": null,
            "bottom": null,
            "display": null,
            "flex": null,
            "flex_flow": null,
            "grid_area": null,
            "grid_auto_columns": null,
            "grid_auto_flow": null,
            "grid_auto_rows": null,
            "grid_column": null,
            "grid_gap": null,
            "grid_row": null,
            "grid_template_areas": null,
            "grid_template_columns": null,
            "grid_template_rows": null,
            "height": null,
            "justify_content": null,
            "justify_items": null,
            "left": null,
            "margin": null,
            "max_height": null,
            "max_width": null,
            "min_height": null,
            "min_width": null,
            "object_fit": null,
            "object_position": null,
            "order": null,
            "overflow": null,
            "overflow_x": null,
            "overflow_y": null,
            "padding": null,
            "right": null,
            "top": null,
            "visibility": null,
            "width": null
          }
        },
        "a5158aa56e0b48a0b73293d9eb10d799": {
          "model_module": "@jupyter-widgets/base",
          "model_name": "LayoutModel",
          "model_module_version": "1.2.0",
          "state": {
            "_model_module": "@jupyter-widgets/base",
            "_model_module_version": "1.2.0",
            "_model_name": "LayoutModel",
            "_view_count": null,
            "_view_module": "@jupyter-widgets/base",
            "_view_module_version": "1.2.0",
            "_view_name": "LayoutView",
            "align_content": null,
            "align_items": null,
            "align_self": null,
            "border": null,
            "bottom": null,
            "display": null,
            "flex": null,
            "flex_flow": null,
            "grid_area": null,
            "grid_auto_columns": null,
            "grid_auto_flow": null,
            "grid_auto_rows": null,
            "grid_column": null,
            "grid_gap": null,
            "grid_row": null,
            "grid_template_areas": null,
            "grid_template_columns": null,
            "grid_template_rows": null,
            "height": null,
            "justify_content": null,
            "justify_items": null,
            "left": null,
            "margin": null,
            "max_height": null,
            "max_width": null,
            "min_height": null,
            "min_width": null,
            "object_fit": null,
            "object_position": null,
            "order": null,
            "overflow": null,
            "overflow_x": null,
            "overflow_y": null,
            "padding": null,
            "right": null,
            "top": null,
            "visibility": null,
            "width": null
          }
        },
        "f7307f902b624dd3a73b5fd97c5d51a7": {
          "model_module": "@jupyter-widgets/controls",
          "model_name": "DescriptionStyleModel",
          "model_module_version": "1.5.0",
          "state": {
            "_model_module": "@jupyter-widgets/controls",
            "_model_module_version": "1.5.0",
            "_model_name": "DescriptionStyleModel",
            "_view_count": null,
            "_view_module": "@jupyter-widgets/base",
            "_view_module_version": "1.2.0",
            "_view_name": "StyleView",
            "description_width": ""
          }
        },
        "27f311c2717d40c7a667c84908e9844b": {
          "model_module": "@jupyter-widgets/base",
          "model_name": "LayoutModel",
          "model_module_version": "1.2.0",
          "state": {
            "_model_module": "@jupyter-widgets/base",
            "_model_module_version": "1.2.0",
            "_model_name": "LayoutModel",
            "_view_count": null,
            "_view_module": "@jupyter-widgets/base",
            "_view_module_version": "1.2.0",
            "_view_name": "LayoutView",
            "align_content": null,
            "align_items": null,
            "align_self": null,
            "border": null,
            "bottom": null,
            "display": null,
            "flex": null,
            "flex_flow": null,
            "grid_area": null,
            "grid_auto_columns": null,
            "grid_auto_flow": null,
            "grid_auto_rows": null,
            "grid_column": null,
            "grid_gap": null,
            "grid_row": null,
            "grid_template_areas": null,
            "grid_template_columns": null,
            "grid_template_rows": null,
            "height": null,
            "justify_content": null,
            "justify_items": null,
            "left": null,
            "margin": null,
            "max_height": null,
            "max_width": null,
            "min_height": null,
            "min_width": null,
            "object_fit": null,
            "object_position": null,
            "order": null,
            "overflow": null,
            "overflow_x": null,
            "overflow_y": null,
            "padding": null,
            "right": null,
            "top": null,
            "visibility": null,
            "width": null
          }
        },
        "9fb23f293921412fa541b87d9422b321": {
          "model_module": "@jupyter-widgets/controls",
          "model_name": "ProgressStyleModel",
          "model_module_version": "1.5.0",
          "state": {
            "_model_module": "@jupyter-widgets/controls",
            "_model_module_version": "1.5.0",
            "_model_name": "ProgressStyleModel",
            "_view_count": null,
            "_view_module": "@jupyter-widgets/base",
            "_view_module_version": "1.2.0",
            "_view_name": "StyleView",
            "bar_color": null,
            "description_width": ""
          }
        },
        "f64f6fe2008e4267a497706cc3fe7c4a": {
          "model_module": "@jupyter-widgets/base",
          "model_name": "LayoutModel",
          "model_module_version": "1.2.0",
          "state": {
            "_model_module": "@jupyter-widgets/base",
            "_model_module_version": "1.2.0",
            "_model_name": "LayoutModel",
            "_view_count": null,
            "_view_module": "@jupyter-widgets/base",
            "_view_module_version": "1.2.0",
            "_view_name": "LayoutView",
            "align_content": null,
            "align_items": null,
            "align_self": null,
            "border": null,
            "bottom": null,
            "display": null,
            "flex": null,
            "flex_flow": null,
            "grid_area": null,
            "grid_auto_columns": null,
            "grid_auto_flow": null,
            "grid_auto_rows": null,
            "grid_column": null,
            "grid_gap": null,
            "grid_row": null,
            "grid_template_areas": null,
            "grid_template_columns": null,
            "grid_template_rows": null,
            "height": null,
            "justify_content": null,
            "justify_items": null,
            "left": null,
            "margin": null,
            "max_height": null,
            "max_width": null,
            "min_height": null,
            "min_width": null,
            "object_fit": null,
            "object_position": null,
            "order": null,
            "overflow": null,
            "overflow_x": null,
            "overflow_y": null,
            "padding": null,
            "right": null,
            "top": null,
            "visibility": null,
            "width": null
          }
        },
        "dabf2137894148688eca2ffbdb32967f": {
          "model_module": "@jupyter-widgets/controls",
          "model_name": "DescriptionStyleModel",
          "model_module_version": "1.5.0",
          "state": {
            "_model_module": "@jupyter-widgets/controls",
            "_model_module_version": "1.5.0",
            "_model_name": "DescriptionStyleModel",
            "_view_count": null,
            "_view_module": "@jupyter-widgets/base",
            "_view_module_version": "1.2.0",
            "_view_name": "StyleView",
            "description_width": ""
          }
        },
        "6076ddfe0ece415d801b0f38a851493c": {
          "model_module": "@jupyter-widgets/controls",
          "model_name": "HBoxModel",
          "model_module_version": "1.5.0",
          "state": {
            "_dom_classes": [],
            "_model_module": "@jupyter-widgets/controls",
            "_model_module_version": "1.5.0",
            "_model_name": "HBoxModel",
            "_view_count": null,
            "_view_module": "@jupyter-widgets/controls",
            "_view_module_version": "1.5.0",
            "_view_name": "HBoxView",
            "box_style": "",
            "children": [
              "IPY_MODEL_b7e1fd79cf1c4f568a2b4dea94a149bc",
              "IPY_MODEL_28a39dc80bc444dc8ee86db97aecb8ee",
              "IPY_MODEL_aea7b6c9eb174589b71bcf19b48dbaa7"
            ],
            "layout": "IPY_MODEL_855dfa95e92c4d79b37da579772ddc16"
          }
        },
        "b7e1fd79cf1c4f568a2b4dea94a149bc": {
          "model_module": "@jupyter-widgets/controls",
          "model_name": "HTMLModel",
          "model_module_version": "1.5.0",
          "state": {
            "_dom_classes": [],
            "_model_module": "@jupyter-widgets/controls",
            "_model_module_version": "1.5.0",
            "_model_name": "HTMLModel",
            "_view_count": null,
            "_view_module": "@jupyter-widgets/controls",
            "_view_module_version": "1.5.0",
            "_view_name": "HTMLView",
            "description": "",
            "description_tooltip": null,
            "layout": "IPY_MODEL_2e018aa40ffc4d63ba8315f9ea780924",
            "placeholder": "​",
            "style": "IPY_MODEL_c1ea51ba05f04a4d87876a12d7ebba55",
            "value": "tokenizer.json: 100%"
          }
        },
        "28a39dc80bc444dc8ee86db97aecb8ee": {
          "model_module": "@jupyter-widgets/controls",
          "model_name": "FloatProgressModel",
          "model_module_version": "1.5.0",
          "state": {
            "_dom_classes": [],
            "_model_module": "@jupyter-widgets/controls",
            "_model_module_version": "1.5.0",
            "_model_name": "FloatProgressModel",
            "_view_count": null,
            "_view_module": "@jupyter-widgets/controls",
            "_view_module_version": "1.5.0",
            "_view_name": "ProgressView",
            "bar_style": "success",
            "description": "",
            "description_tooltip": null,
            "layout": "IPY_MODEL_14d09be9c0f84441b514465f20df4613",
            "max": 17082734,
            "min": 0,
            "orientation": "horizontal",
            "style": "IPY_MODEL_d42d8085c5e9471fa793e913fe24aa34",
            "value": 17082734
          }
        },
        "aea7b6c9eb174589b71bcf19b48dbaa7": {
          "model_module": "@jupyter-widgets/controls",
          "model_name": "HTMLModel",
          "model_module_version": "1.5.0",
          "state": {
            "_dom_classes": [],
            "_model_module": "@jupyter-widgets/controls",
            "_model_module_version": "1.5.0",
            "_model_name": "HTMLModel",
            "_view_count": null,
            "_view_module": "@jupyter-widgets/controls",
            "_view_module_version": "1.5.0",
            "_view_name": "HTMLView",
            "description": "",
            "description_tooltip": null,
            "layout": "IPY_MODEL_2b8a959187dd4ae58a8d75e80f53a752",
            "placeholder": "​",
            "style": "IPY_MODEL_87110cfef8d74330b6ac7590021834cd",
            "value": " 17.1M/17.1M [00:00&lt;00:00, 247MB/s]"
          }
        },
        "855dfa95e92c4d79b37da579772ddc16": {
          "model_module": "@jupyter-widgets/base",
          "model_name": "LayoutModel",
          "model_module_version": "1.2.0",
          "state": {
            "_model_module": "@jupyter-widgets/base",
            "_model_module_version": "1.2.0",
            "_model_name": "LayoutModel",
            "_view_count": null,
            "_view_module": "@jupyter-widgets/base",
            "_view_module_version": "1.2.0",
            "_view_name": "LayoutView",
            "align_content": null,
            "align_items": null,
            "align_self": null,
            "border": null,
            "bottom": null,
            "display": null,
            "flex": null,
            "flex_flow": null,
            "grid_area": null,
            "grid_auto_columns": null,
            "grid_auto_flow": null,
            "grid_auto_rows": null,
            "grid_column": null,
            "grid_gap": null,
            "grid_row": null,
            "grid_template_areas": null,
            "grid_template_columns": null,
            "grid_template_rows": null,
            "height": null,
            "justify_content": null,
            "justify_items": null,
            "left": null,
            "margin": null,
            "max_height": null,
            "max_width": null,
            "min_height": null,
            "min_width": null,
            "object_fit": null,
            "object_position": null,
            "order": null,
            "overflow": null,
            "overflow_x": null,
            "overflow_y": null,
            "padding": null,
            "right": null,
            "top": null,
            "visibility": null,
            "width": null
          }
        },
        "2e018aa40ffc4d63ba8315f9ea780924": {
          "model_module": "@jupyter-widgets/base",
          "model_name": "LayoutModel",
          "model_module_version": "1.2.0",
          "state": {
            "_model_module": "@jupyter-widgets/base",
            "_model_module_version": "1.2.0",
            "_model_name": "LayoutModel",
            "_view_count": null,
            "_view_module": "@jupyter-widgets/base",
            "_view_module_version": "1.2.0",
            "_view_name": "LayoutView",
            "align_content": null,
            "align_items": null,
            "align_self": null,
            "border": null,
            "bottom": null,
            "display": null,
            "flex": null,
            "flex_flow": null,
            "grid_area": null,
            "grid_auto_columns": null,
            "grid_auto_flow": null,
            "grid_auto_rows": null,
            "grid_column": null,
            "grid_gap": null,
            "grid_row": null,
            "grid_template_areas": null,
            "grid_template_columns": null,
            "grid_template_rows": null,
            "height": null,
            "justify_content": null,
            "justify_items": null,
            "left": null,
            "margin": null,
            "max_height": null,
            "max_width": null,
            "min_height": null,
            "min_width": null,
            "object_fit": null,
            "object_position": null,
            "order": null,
            "overflow": null,
            "overflow_x": null,
            "overflow_y": null,
            "padding": null,
            "right": null,
            "top": null,
            "visibility": null,
            "width": null
          }
        },
        "c1ea51ba05f04a4d87876a12d7ebba55": {
          "model_module": "@jupyter-widgets/controls",
          "model_name": "DescriptionStyleModel",
          "model_module_version": "1.5.0",
          "state": {
            "_model_module": "@jupyter-widgets/controls",
            "_model_module_version": "1.5.0",
            "_model_name": "DescriptionStyleModel",
            "_view_count": null,
            "_view_module": "@jupyter-widgets/base",
            "_view_module_version": "1.2.0",
            "_view_name": "StyleView",
            "description_width": ""
          }
        },
        "14d09be9c0f84441b514465f20df4613": {
          "model_module": "@jupyter-widgets/base",
          "model_name": "LayoutModel",
          "model_module_version": "1.2.0",
          "state": {
            "_model_module": "@jupyter-widgets/base",
            "_model_module_version": "1.2.0",
            "_model_name": "LayoutModel",
            "_view_count": null,
            "_view_module": "@jupyter-widgets/base",
            "_view_module_version": "1.2.0",
            "_view_name": "LayoutView",
            "align_content": null,
            "align_items": null,
            "align_self": null,
            "border": null,
            "bottom": null,
            "display": null,
            "flex": null,
            "flex_flow": null,
            "grid_area": null,
            "grid_auto_columns": null,
            "grid_auto_flow": null,
            "grid_auto_rows": null,
            "grid_column": null,
            "grid_gap": null,
            "grid_row": null,
            "grid_template_areas": null,
            "grid_template_columns": null,
            "grid_template_rows": null,
            "height": null,
            "justify_content": null,
            "justify_items": null,
            "left": null,
            "margin": null,
            "max_height": null,
            "max_width": null,
            "min_height": null,
            "min_width": null,
            "object_fit": null,
            "object_position": null,
            "order": null,
            "overflow": null,
            "overflow_x": null,
            "overflow_y": null,
            "padding": null,
            "right": null,
            "top": null,
            "visibility": null,
            "width": null
          }
        },
        "d42d8085c5e9471fa793e913fe24aa34": {
          "model_module": "@jupyter-widgets/controls",
          "model_name": "ProgressStyleModel",
          "model_module_version": "1.5.0",
          "state": {
            "_model_module": "@jupyter-widgets/controls",
            "_model_module_version": "1.5.0",
            "_model_name": "ProgressStyleModel",
            "_view_count": null,
            "_view_module": "@jupyter-widgets/base",
            "_view_module_version": "1.2.0",
            "_view_name": "StyleView",
            "bar_color": null,
            "description_width": ""
          }
        },
        "2b8a959187dd4ae58a8d75e80f53a752": {
          "model_module": "@jupyter-widgets/base",
          "model_name": "LayoutModel",
          "model_module_version": "1.2.0",
          "state": {
            "_model_module": "@jupyter-widgets/base",
            "_model_module_version": "1.2.0",
            "_model_name": "LayoutModel",
            "_view_count": null,
            "_view_module": "@jupyter-widgets/base",
            "_view_module_version": "1.2.0",
            "_view_name": "LayoutView",
            "align_content": null,
            "align_items": null,
            "align_self": null,
            "border": null,
            "bottom": null,
            "display": null,
            "flex": null,
            "flex_flow": null,
            "grid_area": null,
            "grid_auto_columns": null,
            "grid_auto_flow": null,
            "grid_auto_rows": null,
            "grid_column": null,
            "grid_gap": null,
            "grid_row": null,
            "grid_template_areas": null,
            "grid_template_columns": null,
            "grid_template_rows": null,
            "height": null,
            "justify_content": null,
            "justify_items": null,
            "left": null,
            "margin": null,
            "max_height": null,
            "max_width": null,
            "min_height": null,
            "min_width": null,
            "object_fit": null,
            "object_position": null,
            "order": null,
            "overflow": null,
            "overflow_x": null,
            "overflow_y": null,
            "padding": null,
            "right": null,
            "top": null,
            "visibility": null,
            "width": null
          }
        },
        "87110cfef8d74330b6ac7590021834cd": {
          "model_module": "@jupyter-widgets/controls",
          "model_name": "DescriptionStyleModel",
          "model_module_version": "1.5.0",
          "state": {
            "_model_module": "@jupyter-widgets/controls",
            "_model_module_version": "1.5.0",
            "_model_name": "DescriptionStyleModel",
            "_view_count": null,
            "_view_module": "@jupyter-widgets/base",
            "_view_module_version": "1.2.0",
            "_view_name": "StyleView",
            "description_width": ""
          }
        },
        "d7041b34d5ed4f7480435255825f88ef": {
          "model_module": "@jupyter-widgets/controls",
          "model_name": "HBoxModel",
          "model_module_version": "1.5.0",
          "state": {
            "_dom_classes": [],
            "_model_module": "@jupyter-widgets/controls",
            "_model_module_version": "1.5.0",
            "_model_name": "HBoxModel",
            "_view_count": null,
            "_view_module": "@jupyter-widgets/controls",
            "_view_module_version": "1.5.0",
            "_view_name": "HBoxView",
            "box_style": "",
            "children": [
              "IPY_MODEL_70b61a718a834719bfa0d9b11b1c9154",
              "IPY_MODEL_02a3b7ce2dcc49fa91f0aec5aea53c20",
              "IPY_MODEL_db346207e22f4a70b863602f8bb22ebc"
            ],
            "layout": "IPY_MODEL_db6d5dd1231649d7b1b04363e4f2de61"
          }
        },
        "70b61a718a834719bfa0d9b11b1c9154": {
          "model_module": "@jupyter-widgets/controls",
          "model_name": "HTMLModel",
          "model_module_version": "1.5.0",
          "state": {
            "_dom_classes": [],
            "_model_module": "@jupyter-widgets/controls",
            "_model_module_version": "1.5.0",
            "_model_name": "HTMLModel",
            "_view_count": null,
            "_view_module": "@jupyter-widgets/controls",
            "_view_module_version": "1.5.0",
            "_view_name": "HTMLView",
            "description": "",
            "description_tooltip": null,
            "layout": "IPY_MODEL_bbb3488719614d7a93883d9d93dfcb50",
            "placeholder": "​",
            "style": "IPY_MODEL_e3a2ac7e41164574ba872d4f04502d85",
            "value": "special_tokens_map.json: 100%"
          }
        },
        "02a3b7ce2dcc49fa91f0aec5aea53c20": {
          "model_module": "@jupyter-widgets/controls",
          "model_name": "FloatProgressModel",
          "model_module_version": "1.5.0",
          "state": {
            "_dom_classes": [],
            "_model_module": "@jupyter-widgets/controls",
            "_model_module_version": "1.5.0",
            "_model_name": "FloatProgressModel",
            "_view_count": null,
            "_view_module": "@jupyter-widgets/controls",
            "_view_module_version": "1.5.0",
            "_view_name": "ProgressView",
            "bar_style": "success",
            "description": "",
            "description_tooltip": null,
            "layout": "IPY_MODEL_a8e95fc93e1d4b3e8d9918639d2b4983",
            "max": 964,
            "min": 0,
            "orientation": "horizontal",
            "style": "IPY_MODEL_243469bd68a042b99c6d3e32c590e0fa",
            "value": 964
          }
        },
        "db346207e22f4a70b863602f8bb22ebc": {
          "model_module": "@jupyter-widgets/controls",
          "model_name": "HTMLModel",
          "model_module_version": "1.5.0",
          "state": {
            "_dom_classes": [],
            "_model_module": "@jupyter-widgets/controls",
            "_model_module_version": "1.5.0",
            "_model_name": "HTMLModel",
            "_view_count": null,
            "_view_module": "@jupyter-widgets/controls",
            "_view_module_version": "1.5.0",
            "_view_name": "HTMLView",
            "description": "",
            "description_tooltip": null,
            "layout": "IPY_MODEL_ab6a60db12644e48bab308934e569467",
            "placeholder": "​",
            "style": "IPY_MODEL_80af872f8abc42e591b63104148aefc8",
            "value": " 964/964 [00:00&lt;00:00, 78.2kB/s]"
          }
        },
        "db6d5dd1231649d7b1b04363e4f2de61": {
          "model_module": "@jupyter-widgets/base",
          "model_name": "LayoutModel",
          "model_module_version": "1.2.0",
          "state": {
            "_model_module": "@jupyter-widgets/base",
            "_model_module_version": "1.2.0",
            "_model_name": "LayoutModel",
            "_view_count": null,
            "_view_module": "@jupyter-widgets/base",
            "_view_module_version": "1.2.0",
            "_view_name": "LayoutView",
            "align_content": null,
            "align_items": null,
            "align_self": null,
            "border": null,
            "bottom": null,
            "display": null,
            "flex": null,
            "flex_flow": null,
            "grid_area": null,
            "grid_auto_columns": null,
            "grid_auto_flow": null,
            "grid_auto_rows": null,
            "grid_column": null,
            "grid_gap": null,
            "grid_row": null,
            "grid_template_areas": null,
            "grid_template_columns": null,
            "grid_template_rows": null,
            "height": null,
            "justify_content": null,
            "justify_items": null,
            "left": null,
            "margin": null,
            "max_height": null,
            "max_width": null,
            "min_height": null,
            "min_width": null,
            "object_fit": null,
            "object_position": null,
            "order": null,
            "overflow": null,
            "overflow_x": null,
            "overflow_y": null,
            "padding": null,
            "right": null,
            "top": null,
            "visibility": null,
            "width": null
          }
        },
        "bbb3488719614d7a93883d9d93dfcb50": {
          "model_module": "@jupyter-widgets/base",
          "model_name": "LayoutModel",
          "model_module_version": "1.2.0",
          "state": {
            "_model_module": "@jupyter-widgets/base",
            "_model_module_version": "1.2.0",
            "_model_name": "LayoutModel",
            "_view_count": null,
            "_view_module": "@jupyter-widgets/base",
            "_view_module_version": "1.2.0",
            "_view_name": "LayoutView",
            "align_content": null,
            "align_items": null,
            "align_self": null,
            "border": null,
            "bottom": null,
            "display": null,
            "flex": null,
            "flex_flow": null,
            "grid_area": null,
            "grid_auto_columns": null,
            "grid_auto_flow": null,
            "grid_auto_rows": null,
            "grid_column": null,
            "grid_gap": null,
            "grid_row": null,
            "grid_template_areas": null,
            "grid_template_columns": null,
            "grid_template_rows": null,
            "height": null,
            "justify_content": null,
            "justify_items": null,
            "left": null,
            "margin": null,
            "max_height": null,
            "max_width": null,
            "min_height": null,
            "min_width": null,
            "object_fit": null,
            "object_position": null,
            "order": null,
            "overflow": null,
            "overflow_x": null,
            "overflow_y": null,
            "padding": null,
            "right": null,
            "top": null,
            "visibility": null,
            "width": null
          }
        },
        "e3a2ac7e41164574ba872d4f04502d85": {
          "model_module": "@jupyter-widgets/controls",
          "model_name": "DescriptionStyleModel",
          "model_module_version": "1.5.0",
          "state": {
            "_model_module": "@jupyter-widgets/controls",
            "_model_module_version": "1.5.0",
            "_model_name": "DescriptionStyleModel",
            "_view_count": null,
            "_view_module": "@jupyter-widgets/base",
            "_view_module_version": "1.2.0",
            "_view_name": "StyleView",
            "description_width": ""
          }
        },
        "a8e95fc93e1d4b3e8d9918639d2b4983": {
          "model_module": "@jupyter-widgets/base",
          "model_name": "LayoutModel",
          "model_module_version": "1.2.0",
          "state": {
            "_model_module": "@jupyter-widgets/base",
            "_model_module_version": "1.2.0",
            "_model_name": "LayoutModel",
            "_view_count": null,
            "_view_module": "@jupyter-widgets/base",
            "_view_module_version": "1.2.0",
            "_view_name": "LayoutView",
            "align_content": null,
            "align_items": null,
            "align_self": null,
            "border": null,
            "bottom": null,
            "display": null,
            "flex": null,
            "flex_flow": null,
            "grid_area": null,
            "grid_auto_columns": null,
            "grid_auto_flow": null,
            "grid_auto_rows": null,
            "grid_column": null,
            "grid_gap": null,
            "grid_row": null,
            "grid_template_areas": null,
            "grid_template_columns": null,
            "grid_template_rows": null,
            "height": null,
            "justify_content": null,
            "justify_items": null,
            "left": null,
            "margin": null,
            "max_height": null,
            "max_width": null,
            "min_height": null,
            "min_width": null,
            "object_fit": null,
            "object_position": null,
            "order": null,
            "overflow": null,
            "overflow_x": null,
            "overflow_y": null,
            "padding": null,
            "right": null,
            "top": null,
            "visibility": null,
            "width": null
          }
        },
        "243469bd68a042b99c6d3e32c590e0fa": {
          "model_module": "@jupyter-widgets/controls",
          "model_name": "ProgressStyleModel",
          "model_module_version": "1.5.0",
          "state": {
            "_model_module": "@jupyter-widgets/controls",
            "_model_module_version": "1.5.0",
            "_model_name": "ProgressStyleModel",
            "_view_count": null,
            "_view_module": "@jupyter-widgets/base",
            "_view_module_version": "1.2.0",
            "_view_name": "StyleView",
            "bar_color": null,
            "description_width": ""
          }
        },
        "ab6a60db12644e48bab308934e569467": {
          "model_module": "@jupyter-widgets/base",
          "model_name": "LayoutModel",
          "model_module_version": "1.2.0",
          "state": {
            "_model_module": "@jupyter-widgets/base",
            "_model_module_version": "1.2.0",
            "_model_name": "LayoutModel",
            "_view_count": null,
            "_view_module": "@jupyter-widgets/base",
            "_view_module_version": "1.2.0",
            "_view_name": "LayoutView",
            "align_content": null,
            "align_items": null,
            "align_self": null,
            "border": null,
            "bottom": null,
            "display": null,
            "flex": null,
            "flex_flow": null,
            "grid_area": null,
            "grid_auto_columns": null,
            "grid_auto_flow": null,
            "grid_auto_rows": null,
            "grid_column": null,
            "grid_gap": null,
            "grid_row": null,
            "grid_template_areas": null,
            "grid_template_columns": null,
            "grid_template_rows": null,
            "height": null,
            "justify_content": null,
            "justify_items": null,
            "left": null,
            "margin": null,
            "max_height": null,
            "max_width": null,
            "min_height": null,
            "min_width": null,
            "object_fit": null,
            "object_position": null,
            "order": null,
            "overflow": null,
            "overflow_x": null,
            "overflow_y": null,
            "padding": null,
            "right": null,
            "top": null,
            "visibility": null,
            "width": null
          }
        },
        "80af872f8abc42e591b63104148aefc8": {
          "model_module": "@jupyter-widgets/controls",
          "model_name": "DescriptionStyleModel",
          "model_module_version": "1.5.0",
          "state": {
            "_model_module": "@jupyter-widgets/controls",
            "_model_module_version": "1.5.0",
            "_model_name": "DescriptionStyleModel",
            "_view_count": null,
            "_view_module": "@jupyter-widgets/base",
            "_view_module_version": "1.2.0",
            "_view_name": "StyleView",
            "description_width": ""
          }
        }
      }
    }
  },
  "nbformat": 4,
  "nbformat_minor": 5
}